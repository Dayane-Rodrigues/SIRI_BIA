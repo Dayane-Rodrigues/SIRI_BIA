{
  "cells": [
    {
      "cell_type": "markdown",
      "metadata": {
        "id": "11rqIj3odz1h"
      },
      "source": [
        "# Using Knowledge Graph with Neo4jGraphStore\n"
      ]
    },
    {
      "cell_type": "code",
      "execution_count": 1,
      "metadata": {
        "colab": {
          "base_uri": "https://localhost:8080/"
        },
        "id": "3djPMK1p3Fkr",
        "outputId": "002da2b5-3041-4085-d157-f16d15fcaeb7"
      },
      "outputs": [
        {
          "name": "stdout",
          "output_type": "stream",
          "text": [
            "['CSVReader', 'DocxReader', 'EpubReader', 'FlatReader', 'HTMLTagReader', 'HWPReader', 'IPYNBReader', 'ImageCaptionReader', 'ImageReader', 'ImageTabularChartReader', 'ImageVisionLLMReader', 'MarkdownReader', 'MboxReader', 'PDFReader', 'PagedCSVReader', 'PandasCSVReader', 'PandasExcelReader', 'PptxReader', 'PyMuPDFReader', 'RTFReader', 'UnstructuredReader', 'VideoAudioReader', 'XMLReader', '__all__', '__builtins__', '__cached__', '__doc__', '__file__', '__loader__', '__name__', '__package__', '__path__', '__spec__', 'docs', 'epub', 'flat', 'html', 'image', 'image_caption', 'image_deplot', 'image_vision_llm', 'ipynb', 'markdown', 'mbox', 'paged_csv', 'pymu_pdf', 'rtf', 'slides', 'tabular', 'unstructured', 'video_audio', 'xml']\n"
          ]
        }
      ],
      "source": [
        "from llama_index.readers import file\n",
        "print(dir(file))"
      ]
    },
    {
      "cell_type": "code",
      "execution_count": 3,
      "metadata": {
        "id": "5A9Lb4DxTx29"
      },
      "outputs": [],
      "source": [
        "from llama_index.core import KnowledgeGraphIndex, SimpleDirectoryReader\n",
        "from llama_index.core import StorageContext\n",
        "from llama_index.graph_stores.neo4j import Neo4jGraphStore\n",
        "import logging\n",
        "import sys\n",
        "from llama_index.llms.openai import OpenAI\n",
        "from llama_index.core import Settings\n",
        "from llama_index.llms.openai import OpenAI\n",
        "from IPython.display import Markdown, display\n",
        "import os\n",
        "from llama_index.readers.s3 import S3Reader\n",
        "import time\n",
        "from neo4j import GraphDatabase"
      ]
    },
    {
      "cell_type": "markdown",
      "metadata": {
        "id": "6puFA5OGCWfG"
      },
      "source": [
        "## Configurando LLM"
      ]
    },
    {
      "cell_type": "code",
      "execution_count": 8,
      "metadata": {
        "id": "cMCxjocGipc3"
      },
      "outputs": [],
      "source": [
        "os.environ[\"OPENAI_API_KEY\"] = 'chave_api'\n",
        "\n",
        "logging.basicConfig(stream=sys.stdout, level=logging.INFO)\n",
        "\n",
        "# define LLM\n",
        "llm = OpenAI(temperature=0, api_key = 'chave_api',model=\"gpt-4o-mini\")\n",
        "Settings.llm = llm\n",
        "Settings.chunk_size = 512"
      ]
    },
    {
      "cell_type": "markdown",
      "metadata": {
        "id": "UpQORKO-CasY"
      },
      "source": [
        "## Carregando documentos"
      ]
    },
    {
      "cell_type": "markdown",
      "metadata": {
        "id": "2W3ihOTGwYYz"
      },
      "source": [
        "## Processando os arquivos"
      ]
    },
    {
      "cell_type": "markdown",
      "metadata": {
        "id": "Bv6qvWxId8P4"
      },
      "source": [
        "## Indexando documentos no Neo4j"
      ]
    },
    {
      "cell_type": "code",
      "execution_count": 9,
      "metadata": {
        "id": "HJHAmMIasd_Y"
      },
      "outputs": [],
      "source": [
        "# Credenciais de Acesso ao banco de dados de grafos Neo4j\n",
        "username = \"neo4j\"\n",
        "password = 'senha_neo4j'\n",
        "url = 'uri_neo4j'\n",
        "database = \"neo4j\"\n",
        "driver = GraphDatabase.driver(url, auth=(username, password))"
      ]
    },
    {
      "cell_type": "code",
      "execution_count": 10,
      "metadata": {
        "id": "B5qkIzVVl4ol"
      },
      "outputs": [],
      "source": [
        "graph_store = Neo4jGraphStore(\n",
        "    username=username,\n",
        "    password=password,\n",
        "    url=url,\n",
        "    database=database,\n",
        ")"
      ]
    },
    {
      "cell_type": "code",
      "execution_count": 11,
      "metadata": {
        "id": "MGv-QLLf1Q4g"
      },
      "outputs": [],
      "source": [
        "from llama_index.core.schema import Document\n",
        "\n",
        "# Caminho onde estão os arquivos .txt\n",
        "folder_path = \"/teamspace/studios/this_studio/SIRI_BIA/Dados\"\n",
        "\n",
        "# Carregar arquivos como documentos\n",
        "documents = []\n",
        "for filename in os.listdir(folder_path):\n",
        "    if filename.endswith(\".txt\"):\n",
        "        with open(os.path.join(folder_path, filename), \"r\", encoding=\"utf-8\") as f:\n",
        "            content = f.read()\n",
        "            documents.append(Document(text=content))"
      ]
    },
    {
      "cell_type": "code",
      "execution_count": 12,
      "metadata": {
        "id": "F6ikMpzit0sl"
      },
      "outputs": [
        {
          "name": "stdout",
          "output_type": "stream",
          "text": [
            "INFO:httpx:HTTP Request: POST https://api.openai.com/v1/chat/completions \"HTTP/1.1 200 OK\"\n",
            "INFO:httpx:HTTP Request: POST https://api.openai.com/v1/embeddings \"HTTP/1.1 200 OK\"\n",
            "INFO:httpx:HTTP Request: POST https://api.openai.com/v1/chat/completions \"HTTP/1.1 200 OK\"\n",
            "INFO:httpx:HTTP Request: POST https://api.openai.com/v1/embeddings \"HTTP/1.1 200 OK\"\n",
            "INFO:httpx:HTTP Request: POST https://api.openai.com/v1/chat/completions \"HTTP/1.1 200 OK\"\n",
            "INFO:httpx:HTTP Request: POST https://api.openai.com/v1/embeddings \"HTTP/1.1 200 OK\"\n",
            "INFO:httpx:HTTP Request: POST https://api.openai.com/v1/chat/completions \"HTTP/1.1 200 OK\"\n",
            "INFO:httpx:HTTP Request: POST https://api.openai.com/v1/embeddings \"HTTP/1.1 200 OK\"\n",
            "INFO:httpx:HTTP Request: POST https://api.openai.com/v1/chat/completions \"HTTP/1.1 200 OK\"\n",
            "INFO:httpx:HTTP Request: POST https://api.openai.com/v1/embeddings \"HTTP/1.1 200 OK\"\n",
            "INFO:httpx:HTTP Request: POST https://api.openai.com/v1/chat/completions \"HTTP/1.1 200 OK\"\n",
            "INFO:httpx:HTTP Request: POST https://api.openai.com/v1/embeddings \"HTTP/1.1 200 OK\"\n",
            "INFO:httpx:HTTP Request: POST https://api.openai.com/v1/chat/completions \"HTTP/1.1 200 OK\"\n",
            "INFO:httpx:HTTP Request: POST https://api.openai.com/v1/embeddings \"HTTP/1.1 200 OK\"\n",
            "INFO:httpx:HTTP Request: POST https://api.openai.com/v1/chat/completions \"HTTP/1.1 200 OK\"\n",
            "INFO:httpx:HTTP Request: POST https://api.openai.com/v1/embeddings \"HTTP/1.1 200 OK\"\n",
            "INFO:httpx:HTTP Request: POST https://api.openai.com/v1/chat/completions \"HTTP/1.1 200 OK\"\n",
            "INFO:httpx:HTTP Request: POST https://api.openai.com/v1/embeddings \"HTTP/1.1 200 OK\"\n",
            "INFO:httpx:HTTP Request: POST https://api.openai.com/v1/chat/completions \"HTTP/1.1 200 OK\"\n",
            "INFO:httpx:HTTP Request: POST https://api.openai.com/v1/embeddings \"HTTP/1.1 200 OK\"\n",
            "INFO:httpx:HTTP Request: POST https://api.openai.com/v1/chat/completions \"HTTP/1.1 200 OK\"\n",
            "INFO:httpx:HTTP Request: POST https://api.openai.com/v1/embeddings \"HTTP/1.1 200 OK\"\n",
            "INFO:httpx:HTTP Request: POST https://api.openai.com/v1/chat/completions \"HTTP/1.1 200 OK\"\n",
            "INFO:httpx:HTTP Request: POST https://api.openai.com/v1/embeddings \"HTTP/1.1 200 OK\"\n",
            "INFO:httpx:HTTP Request: POST https://api.openai.com/v1/chat/completions \"HTTP/1.1 200 OK\"\n",
            "INFO:httpx:HTTP Request: POST https://api.openai.com/v1/embeddings \"HTTP/1.1 200 OK\"\n",
            "INFO:httpx:HTTP Request: POST https://api.openai.com/v1/chat/completions \"HTTP/1.1 200 OK\"\n",
            "INFO:httpx:HTTP Request: POST https://api.openai.com/v1/embeddings \"HTTP/1.1 200 OK\"\n",
            "INFO:httpx:HTTP Request: POST https://api.openai.com/v1/chat/completions \"HTTP/1.1 200 OK\"\n",
            "INFO:httpx:HTTP Request: POST https://api.openai.com/v1/embeddings \"HTTP/1.1 200 OK\"\n",
            "INFO:httpx:HTTP Request: POST https://api.openai.com/v1/chat/completions \"HTTP/1.1 200 OK\"\n",
            "INFO:httpx:HTTP Request: POST https://api.openai.com/v1/embeddings \"HTTP/1.1 200 OK\"\n",
            "INFO:httpx:HTTP Request: POST https://api.openai.com/v1/chat/completions \"HTTP/1.1 200 OK\"\n",
            "INFO:httpx:HTTP Request: POST https://api.openai.com/v1/embeddings \"HTTP/1.1 200 OK\"\n",
            "INFO:httpx:HTTP Request: POST https://api.openai.com/v1/chat/completions \"HTTP/1.1 200 OK\"\n",
            "INFO:httpx:HTTP Request: POST https://api.openai.com/v1/embeddings \"HTTP/1.1 200 OK\"\n",
            "INFO:httpx:HTTP Request: POST https://api.openai.com/v1/chat/completions \"HTTP/1.1 200 OK\"\n",
            "INFO:httpx:HTTP Request: POST https://api.openai.com/v1/embeddings \"HTTP/1.1 200 OK\"\n",
            "INFO:httpx:HTTP Request: POST https://api.openai.com/v1/chat/completions \"HTTP/1.1 200 OK\"\n",
            "INFO:httpx:HTTP Request: POST https://api.openai.com/v1/embeddings \"HTTP/1.1 200 OK\"\n",
            "INFO:httpx:HTTP Request: POST https://api.openai.com/v1/chat/completions \"HTTP/1.1 200 OK\"\n",
            "INFO:httpx:HTTP Request: POST https://api.openai.com/v1/embeddings \"HTTP/1.1 200 OK\"\n",
            "INFO:httpx:HTTP Request: POST https://api.openai.com/v1/chat/completions \"HTTP/1.1 200 OK\"\n",
            "INFO:httpx:HTTP Request: POST https://api.openai.com/v1/embeddings \"HTTP/1.1 200 OK\"\n",
            "INFO:httpx:HTTP Request: POST https://api.openai.com/v1/chat/completions \"HTTP/1.1 200 OK\"\n",
            "INFO:httpx:HTTP Request: POST https://api.openai.com/v1/embeddings \"HTTP/1.1 200 OK\"\n",
            "INFO:httpx:HTTP Request: POST https://api.openai.com/v1/chat/completions \"HTTP/1.1 200 OK\"\n",
            "INFO:httpx:HTTP Request: POST https://api.openai.com/v1/embeddings \"HTTP/1.1 200 OK\"\n",
            "INFO:httpx:HTTP Request: POST https://api.openai.com/v1/chat/completions \"HTTP/1.1 200 OK\"\n",
            "INFO:httpx:HTTP Request: POST https://api.openai.com/v1/embeddings \"HTTP/1.1 200 OK\"\n",
            "INFO:httpx:HTTP Request: POST https://api.openai.com/v1/chat/completions \"HTTP/1.1 200 OK\"\n",
            "INFO:httpx:HTTP Request: POST https://api.openai.com/v1/embeddings \"HTTP/1.1 200 OK\"\n",
            "INFO:httpx:HTTP Request: POST https://api.openai.com/v1/chat/completions \"HTTP/1.1 200 OK\"\n",
            "INFO:httpx:HTTP Request: POST https://api.openai.com/v1/embeddings \"HTTP/1.1 200 OK\"\n",
            "INFO:httpx:HTTP Request: POST https://api.openai.com/v1/chat/completions \"HTTP/1.1 200 OK\"\n",
            "INFO:httpx:HTTP Request: POST https://api.openai.com/v1/embeddings \"HTTP/1.1 200 OK\"\n",
            "INFO:httpx:HTTP Request: POST https://api.openai.com/v1/chat/completions \"HTTP/1.1 200 OK\"\n",
            "INFO:httpx:HTTP Request: POST https://api.openai.com/v1/embeddings \"HTTP/1.1 200 OK\"\n",
            "INFO:httpx:HTTP Request: POST https://api.openai.com/v1/chat/completions \"HTTP/1.1 200 OK\"\n",
            "INFO:httpx:HTTP Request: POST https://api.openai.com/v1/embeddings \"HTTP/1.1 200 OK\"\n",
            "INFO:httpx:HTTP Request: POST https://api.openai.com/v1/chat/completions \"HTTP/1.1 200 OK\"\n",
            "INFO:httpx:HTTP Request: POST https://api.openai.com/v1/embeddings \"HTTP/1.1 200 OK\"\n",
            "INFO:httpx:HTTP Request: POST https://api.openai.com/v1/chat/completions \"HTTP/1.1 200 OK\"\n",
            "INFO:httpx:HTTP Request: POST https://api.openai.com/v1/embeddings \"HTTP/1.1 200 OK\"\n",
            "INFO:httpx:HTTP Request: POST https://api.openai.com/v1/chat/completions \"HTTP/1.1 200 OK\"\n",
            "INFO:httpx:HTTP Request: POST https://api.openai.com/v1/embeddings \"HTTP/1.1 200 OK\"\n",
            "INFO:httpx:HTTP Request: POST https://api.openai.com/v1/chat/completions \"HTTP/1.1 200 OK\"\n",
            "INFO:httpx:HTTP Request: POST https://api.openai.com/v1/embeddings \"HTTP/1.1 200 OK\"\n",
            "INFO:httpx:HTTP Request: POST https://api.openai.com/v1/chat/completions \"HTTP/1.1 200 OK\"\n",
            "INFO:httpx:HTTP Request: POST https://api.openai.com/v1/embeddings \"HTTP/1.1 200 OK\"\n",
            "INFO:httpx:HTTP Request: POST https://api.openai.com/v1/chat/completions \"HTTP/1.1 200 OK\"\n",
            "INFO:httpx:HTTP Request: POST https://api.openai.com/v1/embeddings \"HTTP/1.1 200 OK\"\n",
            "INFO:httpx:HTTP Request: POST https://api.openai.com/v1/chat/completions \"HTTP/1.1 200 OK\"\n",
            "INFO:httpx:HTTP Request: POST https://api.openai.com/v1/embeddings \"HTTP/1.1 200 OK\"\n",
            "INFO:httpx:HTTP Request: POST https://api.openai.com/v1/chat/completions \"HTTP/1.1 200 OK\"\n",
            "INFO:httpx:HTTP Request: POST https://api.openai.com/v1/embeddings \"HTTP/1.1 200 OK\"\n",
            "INFO:httpx:HTTP Request: POST https://api.openai.com/v1/chat/completions \"HTTP/1.1 200 OK\"\n",
            "INFO:httpx:HTTP Request: POST https://api.openai.com/v1/embeddings \"HTTP/1.1 200 OK\"\n",
            "INFO:httpx:HTTP Request: POST https://api.openai.com/v1/chat/completions \"HTTP/1.1 200 OK\"\n",
            "INFO:httpx:HTTP Request: POST https://api.openai.com/v1/embeddings \"HTTP/1.1 200 OK\"\n",
            "INFO:httpx:HTTP Request: POST https://api.openai.com/v1/chat/completions \"HTTP/1.1 200 OK\"\n",
            "INFO:httpx:HTTP Request: POST https://api.openai.com/v1/embeddings \"HTTP/1.1 200 OK\"\n",
            "INFO:httpx:HTTP Request: POST https://api.openai.com/v1/chat/completions \"HTTP/1.1 200 OK\"\n",
            "INFO:httpx:HTTP Request: POST https://api.openai.com/v1/embeddings \"HTTP/1.1 200 OK\"\n",
            "INFO:httpx:HTTP Request: POST https://api.openai.com/v1/chat/completions \"HTTP/1.1 200 OK\"\n",
            "INFO:httpx:HTTP Request: POST https://api.openai.com/v1/embeddings \"HTTP/1.1 200 OK\"\n",
            "INFO:httpx:HTTP Request: POST https://api.openai.com/v1/chat/completions \"HTTP/1.1 200 OK\"\n",
            "INFO:httpx:HTTP Request: POST https://api.openai.com/v1/embeddings \"HTTP/1.1 200 OK\"\n",
            "INFO:httpx:HTTP Request: POST https://api.openai.com/v1/chat/completions \"HTTP/1.1 200 OK\"\n",
            "INFO:httpx:HTTP Request: POST https://api.openai.com/v1/embeddings \"HTTP/1.1 200 OK\"\n",
            "INFO:httpx:HTTP Request: POST https://api.openai.com/v1/chat/completions \"HTTP/1.1 200 OK\"\n",
            "INFO:httpx:HTTP Request: POST https://api.openai.com/v1/embeddings \"HTTP/1.1 200 OK\"\n",
            "INFO:httpx:HTTP Request: POST https://api.openai.com/v1/chat/completions \"HTTP/1.1 200 OK\"\n",
            "INFO:httpx:HTTP Request: POST https://api.openai.com/v1/embeddings \"HTTP/1.1 200 OK\"\n",
            "INFO:httpx:HTTP Request: POST https://api.openai.com/v1/chat/completions \"HTTP/1.1 200 OK\"\n",
            "INFO:httpx:HTTP Request: POST https://api.openai.com/v1/embeddings \"HTTP/1.1 200 OK\"\n",
            "INFO:httpx:HTTP Request: POST https://api.openai.com/v1/chat/completions \"HTTP/1.1 200 OK\"\n",
            "INFO:httpx:HTTP Request: POST https://api.openai.com/v1/embeddings \"HTTP/1.1 200 OK\"\n",
            "INFO:httpx:HTTP Request: POST https://api.openai.com/v1/chat/completions \"HTTP/1.1 200 OK\"\n",
            "INFO:httpx:HTTP Request: POST https://api.openai.com/v1/embeddings \"HTTP/1.1 200 OK\"\n",
            "INFO:httpx:HTTP Request: POST https://api.openai.com/v1/chat/completions \"HTTP/1.1 200 OK\"\n",
            "INFO:httpx:HTTP Request: POST https://api.openai.com/v1/embeddings \"HTTP/1.1 200 OK\"\n",
            "INFO:httpx:HTTP Request: POST https://api.openai.com/v1/chat/completions \"HTTP/1.1 200 OK\"\n",
            "INFO:httpx:HTTP Request: POST https://api.openai.com/v1/embeddings \"HTTP/1.1 200 OK\"\n",
            "INFO:httpx:HTTP Request: POST https://api.openai.com/v1/chat/completions \"HTTP/1.1 200 OK\"\n",
            "INFO:httpx:HTTP Request: POST https://api.openai.com/v1/embeddings \"HTTP/1.1 200 OK\"\n",
            "INFO:httpx:HTTP Request: POST https://api.openai.com/v1/chat/completions \"HTTP/1.1 200 OK\"\n",
            "INFO:httpx:HTTP Request: POST https://api.openai.com/v1/embeddings \"HTTP/1.1 200 OK\"\n",
            "INFO:httpx:HTTP Request: POST https://api.openai.com/v1/chat/completions \"HTTP/1.1 200 OK\"\n",
            "INFO:httpx:HTTP Request: POST https://api.openai.com/v1/embeddings \"HTTP/1.1 200 OK\"\n",
            "INFO:httpx:HTTP Request: POST https://api.openai.com/v1/chat/completions \"HTTP/1.1 200 OK\"\n",
            "INFO:httpx:HTTP Request: POST https://api.openai.com/v1/embeddings \"HTTP/1.1 200 OK\"\n",
            "INFO:httpx:HTTP Request: POST https://api.openai.com/v1/chat/completions \"HTTP/1.1 200 OK\"\n",
            "INFO:httpx:HTTP Request: POST https://api.openai.com/v1/embeddings \"HTTP/1.1 200 OK\"\n",
            "INFO:httpx:HTTP Request: POST https://api.openai.com/v1/chat/completions \"HTTP/1.1 200 OK\"\n",
            "INFO:httpx:HTTP Request: POST https://api.openai.com/v1/embeddings \"HTTP/1.1 200 OK\"\n",
            "INFO:httpx:HTTP Request: POST https://api.openai.com/v1/chat/completions \"HTTP/1.1 200 OK\"\n",
            "INFO:httpx:HTTP Request: POST https://api.openai.com/v1/embeddings \"HTTP/1.1 200 OK\"\n",
            "INFO:httpx:HTTP Request: POST https://api.openai.com/v1/chat/completions \"HTTP/1.1 200 OK\"\n",
            "INFO:httpx:HTTP Request: POST https://api.openai.com/v1/embeddings \"HTTP/1.1 200 OK\"\n",
            "INFO:httpx:HTTP Request: POST https://api.openai.com/v1/chat/completions \"HTTP/1.1 200 OK\"\n",
            "INFO:httpx:HTTP Request: POST https://api.openai.com/v1/embeddings \"HTTP/1.1 200 OK\"\n",
            "INFO:httpx:HTTP Request: POST https://api.openai.com/v1/chat/completions \"HTTP/1.1 200 OK\"\n",
            "INFO:httpx:HTTP Request: POST https://api.openai.com/v1/embeddings \"HTTP/1.1 200 OK\"\n",
            "INFO:httpx:HTTP Request: POST https://api.openai.com/v1/chat/completions \"HTTP/1.1 200 OK\"\n",
            "INFO:httpx:HTTP Request: POST https://api.openai.com/v1/embeddings \"HTTP/1.1 200 OK\"\n",
            "INFO:httpx:HTTP Request: POST https://api.openai.com/v1/chat/completions \"HTTP/1.1 200 OK\"\n",
            "INFO:httpx:HTTP Request: POST https://api.openai.com/v1/embeddings \"HTTP/1.1 200 OK\"\n",
            "INFO:httpx:HTTP Request: POST https://api.openai.com/v1/chat/completions \"HTTP/1.1 200 OK\"\n",
            "INFO:httpx:HTTP Request: POST https://api.openai.com/v1/embeddings \"HTTP/1.1 200 OK\"\n",
            "INFO:httpx:HTTP Request: POST https://api.openai.com/v1/chat/completions \"HTTP/1.1 200 OK\"\n",
            "INFO:httpx:HTTP Request: POST https://api.openai.com/v1/embeddings \"HTTP/1.1 200 OK\"\n",
            "INFO:httpx:HTTP Request: POST https://api.openai.com/v1/chat/completions \"HTTP/1.1 200 OK\"\n",
            "INFO:httpx:HTTP Request: POST https://api.openai.com/v1/embeddings \"HTTP/1.1 200 OK\"\n",
            "INFO:httpx:HTTP Request: POST https://api.openai.com/v1/chat/completions \"HTTP/1.1 200 OK\"\n",
            "INFO:httpx:HTTP Request: POST https://api.openai.com/v1/embeddings \"HTTP/1.1 200 OK\"\n",
            "INFO:httpx:HTTP Request: POST https://api.openai.com/v1/chat/completions \"HTTP/1.1 200 OK\"\n",
            "INFO:httpx:HTTP Request: POST https://api.openai.com/v1/embeddings \"HTTP/1.1 200 OK\"\n",
            "INFO:httpx:HTTP Request: POST https://api.openai.com/v1/chat/completions \"HTTP/1.1 200 OK\"\n",
            "INFO:httpx:HTTP Request: POST https://api.openai.com/v1/embeddings \"HTTP/1.1 200 OK\"\n",
            "INFO:httpx:HTTP Request: POST https://api.openai.com/v1/chat/completions \"HTTP/1.1 200 OK\"\n",
            "INFO:httpx:HTTP Request: POST https://api.openai.com/v1/embeddings \"HTTP/1.1 200 OK\"\n",
            "INFO:httpx:HTTP Request: POST https://api.openai.com/v1/chat/completions \"HTTP/1.1 200 OK\"\n",
            "INFO:httpx:HTTP Request: POST https://api.openai.com/v1/embeddings \"HTTP/1.1 200 OK\"\n",
            "INFO:httpx:HTTP Request: POST https://api.openai.com/v1/chat/completions \"HTTP/1.1 200 OK\"\n",
            "INFO:httpx:HTTP Request: POST https://api.openai.com/v1/embeddings \"HTTP/1.1 200 OK\"\n",
            "INFO:httpx:HTTP Request: POST https://api.openai.com/v1/chat/completions \"HTTP/1.1 200 OK\"\n",
            "INFO:httpx:HTTP Request: POST https://api.openai.com/v1/embeddings \"HTTP/1.1 200 OK\"\n",
            "INFO:httpx:HTTP Request: POST https://api.openai.com/v1/chat/completions \"HTTP/1.1 200 OK\"\n",
            "INFO:httpx:HTTP Request: POST https://api.openai.com/v1/embeddings \"HTTP/1.1 200 OK\"\n",
            "INFO:httpx:HTTP Request: POST https://api.openai.com/v1/chat/completions \"HTTP/1.1 200 OK\"\n",
            "INFO:httpx:HTTP Request: POST https://api.openai.com/v1/embeddings \"HTTP/1.1 200 OK\"\n",
            "INFO:httpx:HTTP Request: POST https://api.openai.com/v1/chat/completions \"HTTP/1.1 200 OK\"\n",
            "INFO:httpx:HTTP Request: POST https://api.openai.com/v1/embeddings \"HTTP/1.1 200 OK\"\n",
            "INFO:httpx:HTTP Request: POST https://api.openai.com/v1/chat/completions \"HTTP/1.1 200 OK\"\n",
            "INFO:httpx:HTTP Request: POST https://api.openai.com/v1/embeddings \"HTTP/1.1 200 OK\"\n",
            "INFO:httpx:HTTP Request: POST https://api.openai.com/v1/chat/completions \"HTTP/1.1 200 OK\"\n",
            "INFO:httpx:HTTP Request: POST https://api.openai.com/v1/embeddings \"HTTP/1.1 200 OK\"\n",
            "INFO:httpx:HTTP Request: POST https://api.openai.com/v1/chat/completions \"HTTP/1.1 200 OK\"\n",
            "INFO:httpx:HTTP Request: POST https://api.openai.com/v1/embeddings \"HTTP/1.1 200 OK\"\n",
            "INFO:httpx:HTTP Request: POST https://api.openai.com/v1/chat/completions \"HTTP/1.1 200 OK\"\n",
            "INFO:httpx:HTTP Request: POST https://api.openai.com/v1/embeddings \"HTTP/1.1 200 OK\"\n",
            "INFO:httpx:HTTP Request: POST https://api.openai.com/v1/chat/completions \"HTTP/1.1 200 OK\"\n",
            "INFO:httpx:HTTP Request: POST https://api.openai.com/v1/embeddings \"HTTP/1.1 200 OK\"\n",
            "INFO:httpx:HTTP Request: POST https://api.openai.com/v1/chat/completions \"HTTP/1.1 200 OK\"\n",
            "INFO:httpx:HTTP Request: POST https://api.openai.com/v1/embeddings \"HTTP/1.1 200 OK\"\n",
            "INFO:httpx:HTTP Request: POST https://api.openai.com/v1/chat/completions \"HTTP/1.1 200 OK\"\n",
            "INFO:httpx:HTTP Request: POST https://api.openai.com/v1/embeddings \"HTTP/1.1 200 OK\"\n",
            "INFO:httpx:HTTP Request: POST https://api.openai.com/v1/chat/completions \"HTTP/1.1 200 OK\"\n",
            "INFO:httpx:HTTP Request: POST https://api.openai.com/v1/embeddings \"HTTP/1.1 200 OK\"\n",
            "INFO:httpx:HTTP Request: POST https://api.openai.com/v1/chat/completions \"HTTP/1.1 200 OK\"\n",
            "INFO:httpx:HTTP Request: POST https://api.openai.com/v1/embeddings \"HTTP/1.1 200 OK\"\n",
            "INFO:httpx:HTTP Request: POST https://api.openai.com/v1/chat/completions \"HTTP/1.1 200 OK\"\n",
            "INFO:httpx:HTTP Request: POST https://api.openai.com/v1/embeddings \"HTTP/1.1 200 OK\"\n",
            "INFO:httpx:HTTP Request: POST https://api.openai.com/v1/chat/completions \"HTTP/1.1 200 OK\"\n",
            "INFO:httpx:HTTP Request: POST https://api.openai.com/v1/embeddings \"HTTP/1.1 200 OK\"\n",
            "INFO:httpx:HTTP Request: POST https://api.openai.com/v1/chat/completions \"HTTP/1.1 200 OK\"\n",
            "INFO:httpx:HTTP Request: POST https://api.openai.com/v1/embeddings \"HTTP/1.1 200 OK\"\n",
            "INFO:httpx:HTTP Request: POST https://api.openai.com/v1/chat/completions \"HTTP/1.1 200 OK\"\n",
            "INFO:httpx:HTTP Request: POST https://api.openai.com/v1/embeddings \"HTTP/1.1 200 OK\"\n",
            "INFO:httpx:HTTP Request: POST https://api.openai.com/v1/chat/completions \"HTTP/1.1 200 OK\"\n",
            "INFO:httpx:HTTP Request: POST https://api.openai.com/v1/embeddings \"HTTP/1.1 200 OK\"\n",
            "INFO:httpx:HTTP Request: POST https://api.openai.com/v1/chat/completions \"HTTP/1.1 200 OK\"\n",
            "INFO:httpx:HTTP Request: POST https://api.openai.com/v1/embeddings \"HTTP/1.1 200 OK\"\n",
            "INFO:httpx:HTTP Request: POST https://api.openai.com/v1/chat/completions \"HTTP/1.1 200 OK\"\n",
            "INFO:httpx:HTTP Request: POST https://api.openai.com/v1/embeddings \"HTTP/1.1 200 OK\"\n",
            "INFO:httpx:HTTP Request: POST https://api.openai.com/v1/chat/completions \"HTTP/1.1 200 OK\"\n",
            "INFO:httpx:HTTP Request: POST https://api.openai.com/v1/embeddings \"HTTP/1.1 200 OK\"\n",
            "INFO:httpx:HTTP Request: POST https://api.openai.com/v1/chat/completions \"HTTP/1.1 200 OK\"\n",
            "INFO:httpx:HTTP Request: POST https://api.openai.com/v1/embeddings \"HTTP/1.1 200 OK\"\n",
            "INFO:httpx:HTTP Request: POST https://api.openai.com/v1/chat/completions \"HTTP/1.1 200 OK\"\n",
            "INFO:httpx:HTTP Request: POST https://api.openai.com/v1/embeddings \"HTTP/1.1 200 OK\"\n",
            "INFO:httpx:HTTP Request: POST https://api.openai.com/v1/chat/completions \"HTTP/1.1 200 OK\"\n",
            "INFO:httpx:HTTP Request: POST https://api.openai.com/v1/embeddings \"HTTP/1.1 200 OK\"\n",
            "INFO:httpx:HTTP Request: POST https://api.openai.com/v1/chat/completions \"HTTP/1.1 200 OK\"\n",
            "INFO:httpx:HTTP Request: POST https://api.openai.com/v1/embeddings \"HTTP/1.1 200 OK\"\n",
            "INFO:httpx:HTTP Request: POST https://api.openai.com/v1/chat/completions \"HTTP/1.1 200 OK\"\n",
            "INFO:httpx:HTTP Request: POST https://api.openai.com/v1/embeddings \"HTTP/1.1 200 OK\"\n",
            "INFO:httpx:HTTP Request: POST https://api.openai.com/v1/chat/completions \"HTTP/1.1 200 OK\"\n",
            "INFO:httpx:HTTP Request: POST https://api.openai.com/v1/embeddings \"HTTP/1.1 200 OK\"\n",
            "INFO:httpx:HTTP Request: POST https://api.openai.com/v1/chat/completions \"HTTP/1.1 200 OK\"\n",
            "INFO:httpx:HTTP Request: POST https://api.openai.com/v1/embeddings \"HTTP/1.1 200 OK\"\n",
            "INFO:httpx:HTTP Request: POST https://api.openai.com/v1/chat/completions \"HTTP/1.1 200 OK\"\n",
            "INFO:httpx:HTTP Request: POST https://api.openai.com/v1/embeddings \"HTTP/1.1 200 OK\"\n",
            "INFO:httpx:HTTP Request: POST https://api.openai.com/v1/chat/completions \"HTTP/1.1 200 OK\"\n",
            "INFO:httpx:HTTP Request: POST https://api.openai.com/v1/embeddings \"HTTP/1.1 200 OK\"\n",
            "INFO:httpx:HTTP Request: POST https://api.openai.com/v1/chat/completions \"HTTP/1.1 200 OK\"\n",
            "INFO:httpx:HTTP Request: POST https://api.openai.com/v1/embeddings \"HTTP/1.1 200 OK\"\n",
            "INFO:httpx:HTTP Request: POST https://api.openai.com/v1/chat/completions \"HTTP/1.1 200 OK\"\n",
            "INFO:httpx:HTTP Request: POST https://api.openai.com/v1/embeddings \"HTTP/1.1 200 OK\"\n",
            "INFO:httpx:HTTP Request: POST https://api.openai.com/v1/chat/completions \"HTTP/1.1 200 OK\"\n",
            "INFO:httpx:HTTP Request: POST https://api.openai.com/v1/embeddings \"HTTP/1.1 200 OK\"\n",
            "INFO:httpx:HTTP Request: POST https://api.openai.com/v1/chat/completions \"HTTP/1.1 200 OK\"\n",
            "INFO:httpx:HTTP Request: POST https://api.openai.com/v1/embeddings \"HTTP/1.1 200 OK\"\n",
            "INFO:httpx:HTTP Request: POST https://api.openai.com/v1/chat/completions \"HTTP/1.1 200 OK\"\n",
            "INFO:httpx:HTTP Request: POST https://api.openai.com/v1/embeddings \"HTTP/1.1 200 OK\"\n",
            "INFO:httpx:HTTP Request: POST https://api.openai.com/v1/chat/completions \"HTTP/1.1 200 OK\"\n",
            "INFO:httpx:HTTP Request: POST https://api.openai.com/v1/embeddings \"HTTP/1.1 200 OK\"\n",
            "INFO:httpx:HTTP Request: POST https://api.openai.com/v1/chat/completions \"HTTP/1.1 200 OK\"\n",
            "INFO:httpx:HTTP Request: POST https://api.openai.com/v1/embeddings \"HTTP/1.1 200 OK\"\n",
            "INFO:httpx:HTTP Request: POST https://api.openai.com/v1/chat/completions \"HTTP/1.1 200 OK\"\n",
            "INFO:httpx:HTTP Request: POST https://api.openai.com/v1/embeddings \"HTTP/1.1 200 OK\"\n",
            "INFO:httpx:HTTP Request: POST https://api.openai.com/v1/chat/completions \"HTTP/1.1 200 OK\"\n",
            "INFO:httpx:HTTP Request: POST https://api.openai.com/v1/embeddings \"HTTP/1.1 200 OK\"\n",
            "INFO:httpx:HTTP Request: POST https://api.openai.com/v1/chat/completions \"HTTP/1.1 200 OK\"\n",
            "INFO:httpx:HTTP Request: POST https://api.openai.com/v1/embeddings \"HTTP/1.1 200 OK\"\n",
            "INFO:httpx:HTTP Request: POST https://api.openai.com/v1/chat/completions \"HTTP/1.1 200 OK\"\n",
            "INFO:httpx:HTTP Request: POST https://api.openai.com/v1/embeddings \"HTTP/1.1 200 OK\"\n",
            "INFO:httpx:HTTP Request: POST https://api.openai.com/v1/chat/completions \"HTTP/1.1 200 OK\"\n",
            "INFO:httpx:HTTP Request: POST https://api.openai.com/v1/embeddings \"HTTP/1.1 200 OK\"\n",
            "INFO:httpx:HTTP Request: POST https://api.openai.com/v1/chat/completions \"HTTP/1.1 200 OK\"\n",
            "INFO:httpx:HTTP Request: POST https://api.openai.com/v1/embeddings \"HTTP/1.1 200 OK\"\n",
            "INFO:httpx:HTTP Request: POST https://api.openai.com/v1/chat/completions \"HTTP/1.1 200 OK\"\n",
            "INFO:httpx:HTTP Request: POST https://api.openai.com/v1/embeddings \"HTTP/1.1 200 OK\"\n",
            "INFO:httpx:HTTP Request: POST https://api.openai.com/v1/chat/completions \"HTTP/1.1 200 OK\"\n",
            "INFO:httpx:HTTP Request: POST https://api.openai.com/v1/embeddings \"HTTP/1.1 200 OK\"\n",
            "INFO:httpx:HTTP Request: POST https://api.openai.com/v1/chat/completions \"HTTP/1.1 200 OK\"\n",
            "INFO:httpx:HTTP Request: POST https://api.openai.com/v1/embeddings \"HTTP/1.1 200 OK\"\n",
            "INFO:httpx:HTTP Request: POST https://api.openai.com/v1/chat/completions \"HTTP/1.1 200 OK\"\n",
            "INFO:httpx:HTTP Request: POST https://api.openai.com/v1/embeddings \"HTTP/1.1 200 OK\"\n",
            "INFO:httpx:HTTP Request: POST https://api.openai.com/v1/chat/completions \"HTTP/1.1 200 OK\"\n",
            "INFO:httpx:HTTP Request: POST https://api.openai.com/v1/embeddings \"HTTP/1.1 200 OK\"\n",
            "INFO:httpx:HTTP Request: POST https://api.openai.com/v1/chat/completions \"HTTP/1.1 200 OK\"\n",
            "INFO:httpx:HTTP Request: POST https://api.openai.com/v1/embeddings \"HTTP/1.1 200 OK\"\n",
            "INFO:httpx:HTTP Request: POST https://api.openai.com/v1/chat/completions \"HTTP/1.1 200 OK\"\n",
            "INFO:httpx:HTTP Request: POST https://api.openai.com/v1/embeddings \"HTTP/1.1 200 OK\"\n",
            "INFO:httpx:HTTP Request: POST https://api.openai.com/v1/chat/completions \"HTTP/1.1 200 OK\"\n",
            "INFO:httpx:HTTP Request: POST https://api.openai.com/v1/embeddings \"HTTP/1.1 200 OK\"\n",
            "INFO:httpx:HTTP Request: POST https://api.openai.com/v1/chat/completions \"HTTP/1.1 200 OK\"\n",
            "INFO:httpx:HTTP Request: POST https://api.openai.com/v1/embeddings \"HTTP/1.1 200 OK\"\n",
            "INFO:httpx:HTTP Request: POST https://api.openai.com/v1/chat/completions \"HTTP/1.1 200 OK\"\n",
            "INFO:httpx:HTTP Request: POST https://api.openai.com/v1/embeddings \"HTTP/1.1 200 OK\"\n",
            "INFO:httpx:HTTP Request: POST https://api.openai.com/v1/chat/completions \"HTTP/1.1 200 OK\"\n",
            "INFO:httpx:HTTP Request: POST https://api.openai.com/v1/embeddings \"HTTP/1.1 200 OK\"\n",
            "INFO:httpx:HTTP Request: POST https://api.openai.com/v1/chat/completions \"HTTP/1.1 200 OK\"\n",
            "INFO:httpx:HTTP Request: POST https://api.openai.com/v1/embeddings \"HTTP/1.1 200 OK\"\n",
            "INFO:httpx:HTTP Request: POST https://api.openai.com/v1/chat/completions \"HTTP/1.1 200 OK\"\n",
            "INFO:httpx:HTTP Request: POST https://api.openai.com/v1/embeddings \"HTTP/1.1 200 OK\"\n",
            "INFO:httpx:HTTP Request: POST https://api.openai.com/v1/chat/completions \"HTTP/1.1 200 OK\"\n",
            "INFO:httpx:HTTP Request: POST https://api.openai.com/v1/embeddings \"HTTP/1.1 200 OK\"\n",
            "INFO:httpx:HTTP Request: POST https://api.openai.com/v1/chat/completions \"HTTP/1.1 200 OK\"\n",
            "INFO:httpx:HTTP Request: POST https://api.openai.com/v1/embeddings \"HTTP/1.1 200 OK\"\n",
            "INFO:httpx:HTTP Request: POST https://api.openai.com/v1/chat/completions \"HTTP/1.1 200 OK\"\n",
            "INFO:httpx:HTTP Request: POST https://api.openai.com/v1/embeddings \"HTTP/1.1 200 OK\"\n",
            "INFO:httpx:HTTP Request: POST https://api.openai.com/v1/chat/completions \"HTTP/1.1 200 OK\"\n",
            "INFO:httpx:HTTP Request: POST https://api.openai.com/v1/embeddings \"HTTP/1.1 200 OK\"\n",
            "INFO:httpx:HTTP Request: POST https://api.openai.com/v1/chat/completions \"HTTP/1.1 200 OK\"\n",
            "INFO:httpx:HTTP Request: POST https://api.openai.com/v1/embeddings \"HTTP/1.1 200 OK\"\n",
            "INFO:httpx:HTTP Request: POST https://api.openai.com/v1/chat/completions \"HTTP/1.1 200 OK\"\n",
            "INFO:httpx:HTTP Request: POST https://api.openai.com/v1/embeddings \"HTTP/1.1 200 OK\"\n",
            "INFO:httpx:HTTP Request: POST https://api.openai.com/v1/chat/completions \"HTTP/1.1 200 OK\"\n",
            "INFO:httpx:HTTP Request: POST https://api.openai.com/v1/embeddings \"HTTP/1.1 200 OK\"\n",
            "INFO:httpx:HTTP Request: POST https://api.openai.com/v1/chat/completions \"HTTP/1.1 200 OK\"\n",
            "INFO:httpx:HTTP Request: POST https://api.openai.com/v1/embeddings \"HTTP/1.1 200 OK\"\n",
            "INFO:httpx:HTTP Request: POST https://api.openai.com/v1/chat/completions \"HTTP/1.1 200 OK\"\n",
            "INFO:httpx:HTTP Request: POST https://api.openai.com/v1/embeddings \"HTTP/1.1 200 OK\"\n",
            "INFO:httpx:HTTP Request: POST https://api.openai.com/v1/chat/completions \"HTTP/1.1 200 OK\"\n",
            "INFO:httpx:HTTP Request: POST https://api.openai.com/v1/embeddings \"HTTP/1.1 200 OK\"\n",
            "INFO:httpx:HTTP Request: POST https://api.openai.com/v1/chat/completions \"HTTP/1.1 200 OK\"\n",
            "INFO:httpx:HTTP Request: POST https://api.openai.com/v1/embeddings \"HTTP/1.1 200 OK\"\n",
            "INFO:httpx:HTTP Request: POST https://api.openai.com/v1/chat/completions \"HTTP/1.1 200 OK\"\n",
            "INFO:httpx:HTTP Request: POST https://api.openai.com/v1/embeddings \"HTTP/1.1 200 OK\"\n",
            "INFO:httpx:HTTP Request: POST https://api.openai.com/v1/chat/completions \"HTTP/1.1 200 OK\"\n",
            "INFO:httpx:HTTP Request: POST https://api.openai.com/v1/embeddings \"HTTP/1.1 200 OK\"\n",
            "INFO:httpx:HTTP Request: POST https://api.openai.com/v1/chat/completions \"HTTP/1.1 200 OK\"\n",
            "INFO:httpx:HTTP Request: POST https://api.openai.com/v1/embeddings \"HTTP/1.1 200 OK\"\n",
            "INFO:httpx:HTTP Request: POST https://api.openai.com/v1/chat/completions \"HTTP/1.1 200 OK\"\n",
            "INFO:httpx:HTTP Request: POST https://api.openai.com/v1/embeddings \"HTTP/1.1 200 OK\"\n",
            "INFO:httpx:HTTP Request: POST https://api.openai.com/v1/chat/completions \"HTTP/1.1 200 OK\"\n",
            "INFO:httpx:HTTP Request: POST https://api.openai.com/v1/embeddings \"HTTP/1.1 200 OK\"\n",
            "INFO:httpx:HTTP Request: POST https://api.openai.com/v1/chat/completions \"HTTP/1.1 200 OK\"\n",
            "INFO:httpx:HTTP Request: POST https://api.openai.com/v1/embeddings \"HTTP/1.1 200 OK\"\n",
            "INFO:httpx:HTTP Request: POST https://api.openai.com/v1/chat/completions \"HTTP/1.1 200 OK\"\n",
            "INFO:httpx:HTTP Request: POST https://api.openai.com/v1/embeddings \"HTTP/1.1 200 OK\"\n",
            "INFO:httpx:HTTP Request: POST https://api.openai.com/v1/chat/completions \"HTTP/1.1 200 OK\"\n",
            "INFO:httpx:HTTP Request: POST https://api.openai.com/v1/embeddings \"HTTP/1.1 200 OK\"\n",
            "INFO:httpx:HTTP Request: POST https://api.openai.com/v1/chat/completions \"HTTP/1.1 200 OK\"\n",
            "INFO:httpx:HTTP Request: POST https://api.openai.com/v1/embeddings \"HTTP/1.1 200 OK\"\n",
            "INFO:httpx:HTTP Request: POST https://api.openai.com/v1/chat/completions \"HTTP/1.1 200 OK\"\n",
            "INFO:httpx:HTTP Request: POST https://api.openai.com/v1/embeddings \"HTTP/1.1 200 OK\"\n",
            "INFO:httpx:HTTP Request: POST https://api.openai.com/v1/chat/completions \"HTTP/1.1 200 OK\"\n",
            "INFO:httpx:HTTP Request: POST https://api.openai.com/v1/embeddings \"HTTP/1.1 200 OK\"\n",
            "INFO:httpx:HTTP Request: POST https://api.openai.com/v1/chat/completions \"HTTP/1.1 200 OK\"\n",
            "INFO:httpx:HTTP Request: POST https://api.openai.com/v1/embeddings \"HTTP/1.1 200 OK\"\n",
            "INFO:httpx:HTTP Request: POST https://api.openai.com/v1/chat/completions \"HTTP/1.1 200 OK\"\n",
            "INFO:httpx:HTTP Request: POST https://api.openai.com/v1/embeddings \"HTTP/1.1 200 OK\"\n",
            "INFO:httpx:HTTP Request: POST https://api.openai.com/v1/chat/completions \"HTTP/1.1 200 OK\"\n",
            "INFO:httpx:HTTP Request: POST https://api.openai.com/v1/embeddings \"HTTP/1.1 200 OK\"\n",
            "INFO:httpx:HTTP Request: POST https://api.openai.com/v1/chat/completions \"HTTP/1.1 200 OK\"\n",
            "INFO:httpx:HTTP Request: POST https://api.openai.com/v1/embeddings \"HTTP/1.1 200 OK\"\n",
            "INFO:httpx:HTTP Request: POST https://api.openai.com/v1/chat/completions \"HTTP/1.1 200 OK\"\n",
            "INFO:httpx:HTTP Request: POST https://api.openai.com/v1/embeddings \"HTTP/1.1 200 OK\"\n",
            "INFO:httpx:HTTP Request: POST https://api.openai.com/v1/chat/completions \"HTTP/1.1 200 OK\"\n",
            "INFO:httpx:HTTP Request: POST https://api.openai.com/v1/embeddings \"HTTP/1.1 200 OK\"\n",
            "INFO:httpx:HTTP Request: POST https://api.openai.com/v1/chat/completions \"HTTP/1.1 200 OK\"\n",
            "INFO:httpx:HTTP Request: POST https://api.openai.com/v1/embeddings \"HTTP/1.1 200 OK\"\n",
            "INFO:httpx:HTTP Request: POST https://api.openai.com/v1/chat/completions \"HTTP/1.1 200 OK\"\n",
            "INFO:httpx:HTTP Request: POST https://api.openai.com/v1/embeddings \"HTTP/1.1 200 OK\"\n",
            "INFO:httpx:HTTP Request: POST https://api.openai.com/v1/chat/completions \"HTTP/1.1 200 OK\"\n",
            "INFO:httpx:HTTP Request: POST https://api.openai.com/v1/embeddings \"HTTP/1.1 200 OK\"\n",
            "INFO:httpx:HTTP Request: POST https://api.openai.com/v1/chat/completions \"HTTP/1.1 200 OK\"\n",
            "INFO:httpx:HTTP Request: POST https://api.openai.com/v1/embeddings \"HTTP/1.1 200 OK\"\n",
            "INFO:httpx:HTTP Request: POST https://api.openai.com/v1/chat/completions \"HTTP/1.1 200 OK\"\n",
            "INFO:httpx:HTTP Request: POST https://api.openai.com/v1/embeddings \"HTTP/1.1 200 OK\"\n",
            "INFO:httpx:HTTP Request: POST https://api.openai.com/v1/chat/completions \"HTTP/1.1 200 OK\"\n",
            "INFO:httpx:HTTP Request: POST https://api.openai.com/v1/embeddings \"HTTP/1.1 200 OK\"\n",
            "INFO:httpx:HTTP Request: POST https://api.openai.com/v1/chat/completions \"HTTP/1.1 200 OK\"\n",
            "INFO:httpx:HTTP Request: POST https://api.openai.com/v1/embeddings \"HTTP/1.1 200 OK\"\n",
            "INFO:httpx:HTTP Request: POST https://api.openai.com/v1/chat/completions \"HTTP/1.1 200 OK\"\n",
            "INFO:httpx:HTTP Request: POST https://api.openai.com/v1/embeddings \"HTTP/1.1 200 OK\"\n",
            "INFO:httpx:HTTP Request: POST https://api.openai.com/v1/chat/completions \"HTTP/1.1 200 OK\"\n",
            "INFO:httpx:HTTP Request: POST https://api.openai.com/v1/embeddings \"HTTP/1.1 200 OK\"\n",
            "INFO:httpx:HTTP Request: POST https://api.openai.com/v1/chat/completions \"HTTP/1.1 200 OK\"\n",
            "INFO:httpx:HTTP Request: POST https://api.openai.com/v1/embeddings \"HTTP/1.1 200 OK\"\n",
            "INFO:httpx:HTTP Request: POST https://api.openai.com/v1/chat/completions \"HTTP/1.1 200 OK\"\n",
            "INFO:httpx:HTTP Request: POST https://api.openai.com/v1/embeddings \"HTTP/1.1 200 OK\"\n",
            "INFO:httpx:HTTP Request: POST https://api.openai.com/v1/chat/completions \"HTTP/1.1 200 OK\"\n",
            "INFO:httpx:HTTP Request: POST https://api.openai.com/v1/embeddings \"HTTP/1.1 200 OK\"\n",
            "INFO:httpx:HTTP Request: POST https://api.openai.com/v1/chat/completions \"HTTP/1.1 200 OK\"\n",
            "INFO:httpx:HTTP Request: POST https://api.openai.com/v1/chat/completions \"HTTP/1.1 200 OK\"\n",
            "INFO:httpx:HTTP Request: POST https://api.openai.com/v1/embeddings \"HTTP/1.1 200 OK\"\n",
            "INFO:httpx:HTTP Request: POST https://api.openai.com/v1/chat/completions \"HTTP/1.1 200 OK\"\n",
            "INFO:httpx:HTTP Request: POST https://api.openai.com/v1/embeddings \"HTTP/1.1 200 OK\"\n",
            "INFO:httpx:HTTP Request: POST https://api.openai.com/v1/chat/completions \"HTTP/1.1 200 OK\"\n",
            "INFO:httpx:HTTP Request: POST https://api.openai.com/v1/embeddings \"HTTP/1.1 200 OK\"\n",
            "INFO:httpx:HTTP Request: POST https://api.openai.com/v1/chat/completions \"HTTP/1.1 200 OK\"\n",
            "INFO:httpx:HTTP Request: POST https://api.openai.com/v1/embeddings \"HTTP/1.1 200 OK\"\n",
            "INFO:httpx:HTTP Request: POST https://api.openai.com/v1/chat/completions \"HTTP/1.1 200 OK\"\n",
            "INFO:httpx:HTTP Request: POST https://api.openai.com/v1/embeddings \"HTTP/1.1 200 OK\"\n",
            "INFO:httpx:HTTP Request: POST https://api.openai.com/v1/chat/completions \"HTTP/1.1 200 OK\"\n",
            "INFO:httpx:HTTP Request: POST https://api.openai.com/v1/embeddings \"HTTP/1.1 200 OK\"\n",
            "INFO:httpx:HTTP Request: POST https://api.openai.com/v1/chat/completions \"HTTP/1.1 200 OK\"\n",
            "INFO:httpx:HTTP Request: POST https://api.openai.com/v1/embeddings \"HTTP/1.1 200 OK\"\n",
            "INFO:httpx:HTTP Request: POST https://api.openai.com/v1/chat/completions \"HTTP/1.1 200 OK\"\n",
            "INFO:httpx:HTTP Request: POST https://api.openai.com/v1/embeddings \"HTTP/1.1 200 OK\"\n",
            "INFO:httpx:HTTP Request: POST https://api.openai.com/v1/chat/completions \"HTTP/1.1 200 OK\"\n",
            "INFO:httpx:HTTP Request: POST https://api.openai.com/v1/embeddings \"HTTP/1.1 200 OK\"\n",
            "INFO:httpx:HTTP Request: POST https://api.openai.com/v1/chat/completions \"HTTP/1.1 200 OK\"\n",
            "INFO:httpx:HTTP Request: POST https://api.openai.com/v1/embeddings \"HTTP/1.1 200 OK\"\n",
            "INFO:httpx:HTTP Request: POST https://api.openai.com/v1/chat/completions \"HTTP/1.1 200 OK\"\n",
            "INFO:httpx:HTTP Request: POST https://api.openai.com/v1/embeddings \"HTTP/1.1 200 OK\"\n",
            "INFO:httpx:HTTP Request: POST https://api.openai.com/v1/chat/completions \"HTTP/1.1 200 OK\"\n",
            "INFO:httpx:HTTP Request: POST https://api.openai.com/v1/embeddings \"HTTP/1.1 200 OK\"\n",
            "INFO:httpx:HTTP Request: POST https://api.openai.com/v1/chat/completions \"HTTP/1.1 200 OK\"\n",
            "INFO:httpx:HTTP Request: POST https://api.openai.com/v1/embeddings \"HTTP/1.1 200 OK\"\n",
            "INFO:httpx:HTTP Request: POST https://api.openai.com/v1/chat/completions \"HTTP/1.1 200 OK\"\n",
            "INFO:httpx:HTTP Request: POST https://api.openai.com/v1/embeddings \"HTTP/1.1 200 OK\"\n",
            "INFO:httpx:HTTP Request: POST https://api.openai.com/v1/chat/completions \"HTTP/1.1 200 OK\"\n",
            "INFO:httpx:HTTP Request: POST https://api.openai.com/v1/embeddings \"HTTP/1.1 200 OK\"\n",
            "INFO:httpx:HTTP Request: POST https://api.openai.com/v1/chat/completions \"HTTP/1.1 200 OK\"\n",
            "INFO:httpx:HTTP Request: POST https://api.openai.com/v1/embeddings \"HTTP/1.1 200 OK\"\n",
            "INFO:httpx:HTTP Request: POST https://api.openai.com/v1/chat/completions \"HTTP/1.1 200 OK\"\n",
            "INFO:httpx:HTTP Request: POST https://api.openai.com/v1/embeddings \"HTTP/1.1 200 OK\"\n",
            "INFO:httpx:HTTP Request: POST https://api.openai.com/v1/chat/completions \"HTTP/1.1 200 OK\"\n",
            "INFO:httpx:HTTP Request: POST https://api.openai.com/v1/embeddings \"HTTP/1.1 200 OK\"\n",
            "INFO:httpx:HTTP Request: POST https://api.openai.com/v1/chat/completions \"HTTP/1.1 200 OK\"\n",
            "INFO:httpx:HTTP Request: POST https://api.openai.com/v1/embeddings \"HTTP/1.1 200 OK\"\n",
            "INFO:httpx:HTTP Request: POST https://api.openai.com/v1/chat/completions \"HTTP/1.1 200 OK\"\n",
            "INFO:httpx:HTTP Request: POST https://api.openai.com/v1/embeddings \"HTTP/1.1 200 OK\"\n",
            "INFO:httpx:HTTP Request: POST https://api.openai.com/v1/chat/completions \"HTTP/1.1 200 OK\"\n",
            "INFO:httpx:HTTP Request: POST https://api.openai.com/v1/embeddings \"HTTP/1.1 200 OK\"\n",
            "INFO:httpx:HTTP Request: POST https://api.openai.com/v1/chat/completions \"HTTP/1.1 200 OK\"\n",
            "INFO:httpx:HTTP Request: POST https://api.openai.com/v1/embeddings \"HTTP/1.1 200 OK\"\n",
            "INFO:httpx:HTTP Request: POST https://api.openai.com/v1/chat/completions \"HTTP/1.1 200 OK\"\n",
            "INFO:httpx:HTTP Request: POST https://api.openai.com/v1/embeddings \"HTTP/1.1 200 OK\"\n",
            "INFO:httpx:HTTP Request: POST https://api.openai.com/v1/chat/completions \"HTTP/1.1 200 OK\"\n",
            "INFO:httpx:HTTP Request: POST https://api.openai.com/v1/embeddings \"HTTP/1.1 200 OK\"\n",
            "INFO:httpx:HTTP Request: POST https://api.openai.com/v1/chat/completions \"HTTP/1.1 200 OK\"\n",
            "INFO:httpx:HTTP Request: POST https://api.openai.com/v1/embeddings \"HTTP/1.1 200 OK\"\n"
          ]
        }
      ],
      "source": [
        "inicio = time.time()\n",
        "\n",
        "storage_context = StorageContext.from_defaults(graph_store=graph_store)\n",
        "\n",
        "index = KnowledgeGraphIndex.from_documents(\n",
        "    documents,\n",
        "    storage_context=storage_context,\n",
        "    max_triplets_per_chunk=4,\n",
        "    include_embeddings=True\n",
        ")\n",
        "\n",
        "fim = time.time()\n",
        "\n",
        "tempo_decorrido = fim - inicio"
      ]
    },
    {
      "cell_type": "code",
      "execution_count": 14,
      "metadata": {
        "colab": {
          "base_uri": "https://localhost:8080/"
        },
        "id": "q05fExxqNzqQ",
        "outputId": "0954e168-841d-44b9-dd89-2dcd812bf34e"
      },
      "outputs": [
        {
          "name": "stdout",
          "output_type": "stream",
          "text": [
            "Tempo para indexação de 5 documentos: 7.47 minutos\n"
          ]
        }
      ],
      "source": [
        "print(f\"Tempo para indexação de {len(documents)} documentos: {tempo_decorrido/60:.2f} minutos\")"
      ]
    },
    {
      "cell_type": "markdown",
      "metadata": {
        "id": "Gmm1QZA1fEC-"
      },
      "source": [
        "## Queries"
      ]
    },
    {
      "cell_type": "markdown",
      "metadata": {
        "id": "bL1tCQpOHVBd"
      },
      "source": [
        "### RAG"
      ]
    },
    {
      "cell_type": "markdown",
      "metadata": {
        "id": "nYvjQtDMFNMA"
      },
      "source": [
        "Iniciaremos com testes de recuperação + geração de resposta (LLM)"
      ]
    },
    {
      "cell_type": "code",
      "execution_count": 23,
      "metadata": {
        "id": "HkA9n6Kwt7DH"
      },
      "outputs": [],
      "source": [
        "query_engine = index.as_query_engine(\n",
        "    include_text=False,\n",
        "    response_mode=\"tree_summarize\", # include_text =True send the text from where the retrieved tripets were extracted.\n",
        "    embedding_mode=\"hybrid\",\n",
        "    similarity_top_k=5,\n",
        ")"
      ]
    },
    {
      "cell_type": "code",
      "execution_count": 24,
      "metadata": {
        "colab": {
          "base_uri": "https://localhost:8080/"
        },
        "id": "d5lEgPQmITy0",
        "outputId": "27272a86-665a-498a-a023-96cfb841da94"
      },
      "outputs": [
        {
          "name": "stdout",
          "output_type": "stream",
          "text": [
            "INFO:httpx:HTTP Request: POST https://api.openai.com/v1/chat/completions \"HTTP/1.1 200 OK\"\n",
            "INFO:httpx:HTTP Request: POST https://api.openai.com/v1/embeddings \"HTTP/1.1 200 OK\"\n",
            "INFO:httpx:HTTP Request: POST https://api.openai.com/v1/chat/completions \"HTTP/1.1 200 OK\"\n",
            "Tempo de recuperação+geração: 2.8733017444610596 segundos\n"
          ]
        }
      ],
      "source": [
        "inicio = time.time()\n",
        "response_1 = query_engine.query(\"Quantas matérias tem o curso?\")\n",
        "fim = time.time()\n",
        "\n",
        "tempo_decorrido = fim - inicio\n",
        "print(f\"Tempo de recuperação+geração: {tempo_decorrido} segundos\")"
      ]
    },
    {
      "cell_type": "code",
      "execution_count": 25,
      "metadata": {
        "colab": {
          "base_uri": "https://localhost:8080/"
        },
        "id": "cUJ-KUv_I19C",
        "outputId": "dcfb0a01-94c4-44d8-a00c-a8dfa0bd201e"
      },
      "outputs": [
        {
          "data": {
            "text/plain": [
              "Response(response='O curso possui 34 disciplinas.', source_nodes=[NodeWithScore(node=TextNode(id_='7c99cc9e-cf2d-427e-b7db-9629a588670e', embedding=None, metadata={'kg_rel_texts': [\"('Bia', 'Divide', 'Cada hora de atividade acadêmica em 50 minutos de preleções e 10 minutos de atividades práticas')\", \"('Curso de bacharelado em inteligência artificial', 'Contempla', 'Requisitos legais específicos')\", \"('Curso de inteligência artificial da ufg', 'Tem duração de', 'Oito semestres')\", \"['FOI_PROJETADO_PARA', 'Aliar ensino tradicional com vivência em projetos']\", \"('Curso de inteligência artificial', 'Tem duração de', 'Oito semestres')\", \"['VOLTADO_PARA', 'Emprego da ia em projetos de p&d']\", \"('Matriz curricular', 'Perfaz', '34 disciplinas')\", \"['PROPORCIONA', 'Conhecimento amplo da área']\", \"['TEM_OBJETIVO_DE', 'Formar profissionais']\", \"['PERMITE', 'Atuar em várias áreas']\", \"['INCLUI', 'Sistemas embarcados']\", \"['ACOMPANHA', 'Movimento global']\", \"['FORMARÁ', 'Futuros líderes']\", \"['É', 'Importante local']\"], 'kg_rel_map': {'Curso': [['VOLTADO_PARA', 'Emprego da ia em projetos de p&d'], ['FORMARÁ', 'Futuros líderes'], ['PROPORCIONA', 'Conhecimento amplo da área'], ['FOI_PROJETADO_PARA', 'Aliar ensino tradicional com vivência em projetos'], ['INCLUI', 'Sistemas embarcados'], ['TEM_OBJETIVO_DE', 'Formar profissionais'], ['ACOMPANHA', 'Movimento global'], ['PERMITE', 'Atuar em várias áreas'], ['É', 'Importante local']]}, 'kg_schema': {'schema': 'Node properties are the following:\\n\\nRelationship properties are the following:\\n\\nThe relationships are the following:\\n'}}, excluded_embed_metadata_keys=['kg_rel_map', 'kg_rel_texts'], excluded_llm_metadata_keys=['kg_rel_map', 'kg_rel_texts'], relationships={}, metadata_template='{key}: {value}', metadata_separator='\\n', text=\"The following are knowledge sequence in max depth 2 in the form of directed graph like:\\n`subject -[predicate]->, object, <-[predicate_next_hop]-, object_next_hop ...`\\n('Bia', 'Divide', 'Cada hora de atividade acadêmica em 50 minutos de preleções e 10 minutos de atividades práticas')\\n('Curso de bacharelado em inteligência artificial', 'Contempla', 'Requisitos legais específicos')\\n('Curso de inteligência artificial da ufg', 'Tem duração de', 'Oito semestres')\\n['FOI_PROJETADO_PARA', 'Aliar ensino tradicional com vivência em projetos']\\n('Curso de inteligência artificial', 'Tem duração de', 'Oito semestres')\\n['VOLTADO_PARA', 'Emprego da ia em projetos de p&d']\\n('Matriz curricular', 'Perfaz', '34 disciplinas')\\n['PROPORCIONA', 'Conhecimento amplo da área']\\n['TEM_OBJETIVO_DE', 'Formar profissionais']\\n['PERMITE', 'Atuar em várias áreas']\\n['INCLUI', 'Sistemas embarcados']\\n['ACOMPANHA', 'Movimento global']\\n['FORMARÁ', 'Futuros líderes']\\n['É', 'Importante local']\", mimetype='text/plain', start_char_idx=None, end_char_idx=None, metadata_seperator='\\n', text_template='{metadata_str}\\n\\n{content}'), score=1000.0)], metadata={'7c99cc9e-cf2d-427e-b7db-9629a588670e': {'kg_rel_texts': [\"('Bia', 'Divide', 'Cada hora de atividade acadêmica em 50 minutos de preleções e 10 minutos de atividades práticas')\", \"('Curso de bacharelado em inteligência artificial', 'Contempla', 'Requisitos legais específicos')\", \"('Curso de inteligência artificial da ufg', 'Tem duração de', 'Oito semestres')\", \"['FOI_PROJETADO_PARA', 'Aliar ensino tradicional com vivência em projetos']\", \"('Curso de inteligência artificial', 'Tem duração de', 'Oito semestres')\", \"['VOLTADO_PARA', 'Emprego da ia em projetos de p&d']\", \"('Matriz curricular', 'Perfaz', '34 disciplinas')\", \"['PROPORCIONA', 'Conhecimento amplo da área']\", \"['TEM_OBJETIVO_DE', 'Formar profissionais']\", \"['PERMITE', 'Atuar em várias áreas']\", \"['INCLUI', 'Sistemas embarcados']\", \"['ACOMPANHA', 'Movimento global']\", \"['FORMARÁ', 'Futuros líderes']\", \"['É', 'Importante local']\"], 'kg_rel_map': {'Curso': [['VOLTADO_PARA', 'Emprego da ia em projetos de p&d'], ['FORMARÁ', 'Futuros líderes'], ['PROPORCIONA', 'Conhecimento amplo da área'], ['FOI_PROJETADO_PARA', 'Aliar ensino tradicional com vivência em projetos'], ['INCLUI', 'Sistemas embarcados'], ['TEM_OBJETIVO_DE', 'Formar profissionais'], ['ACOMPANHA', 'Movimento global'], ['PERMITE', 'Atuar em várias áreas'], ['É', 'Importante local']]}, 'kg_schema': {'schema': 'Node properties are the following:\\n\\nRelationship properties are the following:\\n\\nThe relationships are the following:\\n'}}})"
            ]
          },
          "execution_count": 25,
          "metadata": {},
          "output_type": "execute_result"
        }
      ],
      "source": [
        "response_1"
      ]
    },
    {
      "cell_type": "markdown",
      "metadata": {
        "id": "UBrzWIA1Nd4-"
      },
      "source": [
        "Nós recuperados:"
      ]
    },
    {
      "cell_type": "code",
      "execution_count": 26,
      "metadata": {
        "colab": {
          "base_uri": "https://localhost:8080/"
        },
        "id": "wEa6d_cVMjeX",
        "outputId": "8b411c6a-35d6-4102-97c7-fcc3e56685ac"
      },
      "outputs": [
        {
          "data": {
            "text/plain": [
              "([[\"('Bia', 'Divide', 'Cada hora de atividade acadêmica em 50 minutos de preleções e 10 minutos de atividades práticas')\",\n",
              "   \"('Curso de bacharelado em inteligência artificial', 'Contempla', 'Requisitos legais específicos')\",\n",
              "   \"('Curso de inteligência artificial da ufg', 'Tem duração de', 'Oito semestres')\",\n",
              "   \"['FOI_PROJETADO_PARA', 'Aliar ensino tradicional com vivência em projetos']\",\n",
              "   \"('Curso de inteligência artificial', 'Tem duração de', 'Oito semestres')\",\n",
              "   \"['VOLTADO_PARA', 'Emprego da ia em projetos de p&d']\",\n",
              "   \"('Matriz curricular', 'Perfaz', '34 disciplinas')\",\n",
              "   \"['PROPORCIONA', 'Conhecimento amplo da área']\",\n",
              "   \"['TEM_OBJETIVO_DE', 'Formar profissionais']\",\n",
              "   \"['PERMITE', 'Atuar em várias áreas']\",\n",
              "   \"['INCLUI', 'Sistemas embarcados']\",\n",
              "   \"['ACOMPANHA', 'Movimento global']\",\n",
              "   \"['FORMARÁ', 'Futuros líderes']\",\n",
              "   \"['É', 'Importante local']\"]],\n",
              " [{'Curso': [['VOLTADO_PARA', 'Emprego da ia em projetos de p&d'],\n",
              "    ['FORMARÁ', 'Futuros líderes'],\n",
              "    ['PROPORCIONA', 'Conhecimento amplo da área'],\n",
              "    ['FOI_PROJETADO_PARA',\n",
              "     'Aliar ensino tradicional com vivência em projetos'],\n",
              "    ['INCLUI', 'Sistemas embarcados'],\n",
              "    ['TEM_OBJETIVO_DE', 'Formar profissionais'],\n",
              "    ['ACOMPANHA', 'Movimento global'],\n",
              "    ['PERMITE', 'Atuar em várias áreas'],\n",
              "    ['É', 'Importante local']]}])"
            ]
          },
          "execution_count": 26,
          "metadata": {},
          "output_type": "execute_result"
        }
      ],
      "source": [
        "kg_rel_texts = [node.node.metadata.get('kg_rel_texts', None) for node in response_1.source_nodes if node.node.metadata.get('kg_rel_texts', None) is not None]\n",
        "kg_rel_map = [node.node.metadata.get('kg_rel_map', None) for node in response_1.source_nodes if node.node.metadata.get('kg_rel_map', None) is not None]\n",
        "kg_rel_texts, kg_rel_map"
      ]
    },
    {
      "cell_type": "code",
      "execution_count": 27,
      "metadata": {
        "colab": {
          "base_uri": "https://localhost:8080/",
          "height": 46
        },
        "id": "zlTIMe-Xxf8P",
        "outputId": "44928961-18d0-4698-bddb-1adc797048c4"
      },
      "outputs": [
        {
          "data": {
            "text/markdown": [
              "<b>O curso possui 34 disciplinas.</b>"
            ],
            "text/plain": [
              "<IPython.core.display.Markdown object>"
            ]
          },
          "metadata": {},
          "output_type": "display_data"
        }
      ],
      "source": [
        "display(Markdown(f\"<b>{response_1}</b>\")) # Output do LLM"
      ]
    },
    {
      "cell_type": "code",
      "execution_count": 28,
      "metadata": {
        "colab": {
          "base_uri": "https://localhost:8080/"
        },
        "id": "DM8Y_MRmwchD",
        "outputId": "32a708bb-f1fe-4d9d-b506-565e13332348"
      },
      "outputs": [
        {
          "name": "stdout",
          "output_type": "stream",
          "text": [
            "INFO:httpx:HTTP Request: POST https://api.openai.com/v1/chat/completions \"HTTP/1.1 200 OK\"\n",
            "INFO:httpx:HTTP Request: POST https://api.openai.com/v1/embeddings \"HTTP/1.1 200 OK\"\n",
            "INFO:httpx:HTTP Request: POST https://api.openai.com/v1/chat/completions \"HTTP/1.1 200 OK\"\n",
            "Tempo de recuperação+geração: 2.2916245460510254 segundos\n"
          ]
        }
      ],
      "source": [
        "inicio = time.time()\n",
        "response_2 = query_engine.query(\"Quantas materias tem na grade curricular?\")\n",
        "fim = time.time()\n",
        "\n",
        "tempo_decorrido = fim - inicio\n",
        "print(f\"Tempo de recuperação+geração: {tempo_decorrido} segundos\")"
      ]
    },
    {
      "cell_type": "code",
      "execution_count": 29,
      "metadata": {
        "colab": {
          "base_uri": "https://localhost:8080/"
        },
        "collapsed": true,
        "id": "MT0Foh0yJgzE",
        "outputId": "b4386960-2024-4732-f06f-a38f1a4da6c0"
      },
      "outputs": [
        {
          "data": {
            "text/plain": [
              "Response(response='A grade curricular possui 34 disciplinas.', source_nodes=[NodeWithScore(node=TextNode(id_='8325fc08-a466-40aa-9604-ee4b5598ec9b', embedding=None, metadata={'kg_rel_texts': [\"['SÃO_ESPECÍFICAS_DO', 'Curso de inteligência artificial', 'TEM_DURAÇÃO_DE', 'Oito semestres']\", \"('Atividades de extensão', 'Devem compor', '10% do total da carga horária curricular')\", \"['OFERECIDAS_POR', 'Inf', 'É', 'Protagonista em cursos de graduação e pós-graduação']\", \"['OFERECIDAS_POR', 'Inf', 'OFERECE', 'Mestrado acadêmico em ciência da computação']\", \"['SÃO_ESPECÍFICAS_DO', 'Curso de inteligência artificial', 'É', 'Empreendedor']\", \"['OFERECIDAS_POR', 'Inf', 'CONSTRUIU', 'Consistente envolvimento com empresas']\", \"['OFERECIDAS_POR', 'Inf', 'PARTICIPOU_DE', 'Projetos de inovação tecnológica']\", \"('Atividades de extensão', 'Devem compor', '10% da carga horária curricular')\", \"['OFERECIDAS_POR', 'Inf', 'NÃO_HAVIA', 'Curso de inteligência artificial']\", \"['OPTATIVAS', 'Computação móvel e ubíqua', 'É', 'Disciplina optativa']\", \"['INCLUEM', 'Pesquisa e inovação', 'INCLUI', 'Tipologias da inovação']\", \"['INCLUEM', 'Pesquisa e inovação', 'INCLUI', 'Sistema de inovação']\", \"['OFERECIDAS_POR', 'Inf', 'APOIA_NA', 'Resolução cepec 1286/2014']\", \"['OFERECIDAS_POR', 'Inf', 'ATUA_NA_ÁREA_DE', 'Conhecimento em ia']\", \"['INCLUEM', 'Pesquisa e inovação', 'INCLUI', 'Método científico']\", \"('Disciplinas', 'Estão organizadas em', 'Oito períodos letivos')\", \"['SÃO_DO', 'Núcleo específico optativo', 'TEM', '6 disciplinas']\", \"['OFERECIDAS_POR', 'Inf', 'INSTRUI', 'Afastamento de docentes']\", \"['INCLUEM', 'Pesquisa e inovação', 'OFERECE', 'Visão exigida']\", \"['SÃO_ESPECÍFICAS_DO', 'Curso de inteligência artificial']\", \"['OFERECIDAS_POR', 'Inf', 'SE_OFERECEU_À', 'Ufg e mec']\", \"['OFERECIDAS_POR', 'Inf', 'OFERECE', '10 disciplinas']\", \"['INCLUEM', 'Pesquisa e inovação', 'É', 'Disciplina']\", \"['SÃO_OBRIGATÓRIAS', 'Núcleo específico obrigatório']\", \"['OFERECIDAS_POR', 'Inf', 'OFERECE', 'Disciplinas']\", \"['OFERECIDAS_POR', 'Inf', 'FOI_CRIADO_EM', '1996']\", \"['OFERECIDAS_POR', 'Inf', 'SE_OFERECEU_À', 'Mec']\", \"['ESTÃO_ORGANIZADAS_EM', 'Oito períodos letivos']\", \"['OFERECIDAS_POR', 'Inf', 'SE_OFERECEU_À', 'Ufg']\", \"('Matriz curricular', 'Perfaz', '34 disciplinas')\"], 'kg_rel_map': {'Disciplinas': [['ESTÃO_ORGANIZADAS_EM', 'Oito períodos letivos'], ['ORGANIZADAS_EM', 'Oito períodos letivos'], ['NÃO_TÊM', 'Correquisito'], ['SÃO_DO', 'Núcleo específico optativo'], ['SÃO_DO', 'Núcleo específico optativo', 'TEM', '6 disciplinas'], ['OFERECIDAS_POR', 'Inf'], ['OFERECIDAS_POR', 'Inf', 'INSTRUI', 'Afastamento de docentes'], ['OFERECIDAS_POR', 'Inf', 'APOIA_NA', 'Resolução cepec 1286/2014'], ['OFERECIDAS_POR', 'Inf', 'SE_OFERECEU_À', 'Ufg e mec'], ['OFERECIDAS_POR', 'Inf', 'SE_OFERECEU_À', 'Mec'], ['OFERECIDAS_POR', 'Inf', 'SE_OFERECEU_À', 'Ufg'], ['OFERECIDAS_POR', 'Inf', 'ATUA_NA_ÁREA_DE', 'Conhecimento em ia'], ['OFERECIDAS_POR', 'Inf', 'NÃO_HAVIA', 'Curso de inteligência artificial'], ['OFERECIDAS_POR', 'Inf', 'PARTICIPOU_DE', 'Projetos de inovação tecnológica'], ['OFERECIDAS_POR', 'Inf', 'CONSTRUIU', 'Consistente envolvimento com empresas'], ['OFERECIDAS_POR', 'Inf', 'FOI_CRIADO_EM', '1996'], ['OFERECIDAS_POR', 'Inf', 'OFERECE', '10 disciplinas'], ['OFERECIDAS_POR', 'Inf', 'OFERECE', 'Mestrado acadêmico em ciência da computação'], ['OFERECIDAS_POR', 'Inf', 'OFERECE', 'Disciplinas'], ['OFERECIDAS_POR', 'Inf', 'É', 'Protagonista em cursos de graduação e pós-graduação'], ['SÃO_OBRIGATÓRIAS', 'Núcleo específico obrigatório'], ['SÃO_ESPECÍFICAS_DO', 'Curso de inteligência artificial'], ['SÃO_ESPECÍFICAS_DO', 'Curso de inteligência artificial', 'É', 'Empreendedor'], ['SÃO_ESPECÍFICAS_DO', 'Curso de inteligência artificial', 'TEM_DURAÇÃO_DE', 'Oito semestres'], ['ABORDAM', 'Preservação ambiental'], ['REMETEM_PARA', 'Conhecimento de questões'], ['INCLUEM', 'Tópicos pertinentes'], ['INCLUEM', 'Computação e sociedade'], ['INCLUEM', 'Pesquisa e inovação'], ['INCLUEM', 'Pesquisa e inovação', 'INCLUI', 'Método científico'], ['INCLUEM', 'Pesquisa e inovação', 'INCLUI', 'Sistema de inovação'], ['INCLUEM', 'Pesquisa e inovação', 'INCLUI', 'Tipologias da inovação'], ['INCLUEM', 'Pesquisa e inovação', 'OFERECE', 'Visão exigida'], ['INCLUEM', 'Pesquisa e inovação', 'É', 'Disciplina'], ['ESPECÍFICAS_DO_BIA', 'Obrigatórias'], ['OPTATIVAS', 'Computação móvel e ubíqua'], ['OPTATIVAS', 'Computação móvel e ubíqua', 'É', 'Disciplina optativa'], ['DE', 'Formação básica']], 'Ensino': [['INTEGRAÇÃO_COM', 'Pesquisa e extensão']]}, 'kg_schema': {'schema': 'Node properties are the following:\\n\\nRelationship properties are the following:\\n\\nThe relationships are the following:\\n'}}, excluded_embed_metadata_keys=['kg_rel_map', 'kg_rel_texts'], excluded_llm_metadata_keys=['kg_rel_map', 'kg_rel_texts'], relationships={}, metadata_template='{key}: {value}', metadata_separator='\\n', text=\"The following are knowledge sequence in max depth 2 in the form of directed graph like:\\n`subject -[predicate]->, object, <-[predicate_next_hop]-, object_next_hop ...`\\n['SÃO_ESPECÍFICAS_DO', 'Curso de inteligência artificial', 'TEM_DURAÇÃO_DE', 'Oito semestres']\\n('Atividades de extensão', 'Devem compor', '10% do total da carga horária curricular')\\n['OFERECIDAS_POR', 'Inf', 'É', 'Protagonista em cursos de graduação e pós-graduação']\\n['OFERECIDAS_POR', 'Inf', 'OFERECE', 'Mestrado acadêmico em ciência da computação']\\n['SÃO_ESPECÍFICAS_DO', 'Curso de inteligência artificial', 'É', 'Empreendedor']\\n['OFERECIDAS_POR', 'Inf', 'CONSTRUIU', 'Consistente envolvimento com empresas']\\n['OFERECIDAS_POR', 'Inf', 'PARTICIPOU_DE', 'Projetos de inovação tecnológica']\\n('Atividades de extensão', 'Devem compor', '10% da carga horária curricular')\\n['OFERECIDAS_POR', 'Inf', 'NÃO_HAVIA', 'Curso de inteligência artificial']\\n['OPTATIVAS', 'Computação móvel e ubíqua', 'É', 'Disciplina optativa']\\n['INCLUEM', 'Pesquisa e inovação', 'INCLUI', 'Tipologias da inovação']\\n['INCLUEM', 'Pesquisa e inovação', 'INCLUI', 'Sistema de inovação']\\n['OFERECIDAS_POR', 'Inf', 'APOIA_NA', 'Resolução cepec 1286/2014']\\n['OFERECIDAS_POR', 'Inf', 'ATUA_NA_ÁREA_DE', 'Conhecimento em ia']\\n['INCLUEM', 'Pesquisa e inovação', 'INCLUI', 'Método científico']\\n('Disciplinas', 'Estão organizadas em', 'Oito períodos letivos')\\n['SÃO_DO', 'Núcleo específico optativo', 'TEM', '6 disciplinas']\\n['OFERECIDAS_POR', 'Inf', 'INSTRUI', 'Afastamento de docentes']\\n['INCLUEM', 'Pesquisa e inovação', 'OFERECE', 'Visão exigida']\\n['SÃO_ESPECÍFICAS_DO', 'Curso de inteligência artificial']\\n['OFERECIDAS_POR', 'Inf', 'SE_OFERECEU_À', 'Ufg e mec']\\n['OFERECIDAS_POR', 'Inf', 'OFERECE', '10 disciplinas']\\n['INCLUEM', 'Pesquisa e inovação', 'É', 'Disciplina']\\n['SÃO_OBRIGATÓRIAS', 'Núcleo específico obrigatório']\\n['OFERECIDAS_POR', 'Inf', 'OFERECE', 'Disciplinas']\\n['OFERECIDAS_POR', 'Inf', 'FOI_CRIADO_EM', '1996']\\n['OFERECIDAS_POR', 'Inf', 'SE_OFERECEU_À', 'Mec']\\n['ESTÃO_ORGANIZADAS_EM', 'Oito períodos letivos']\\n['OFERECIDAS_POR', 'Inf', 'SE_OFERECEU_À', 'Ufg']\\n('Matriz curricular', 'Perfaz', '34 disciplinas')\", mimetype='text/plain', start_char_idx=None, end_char_idx=None, metadata_seperator='\\n', text_template='{metadata_str}\\n\\n{content}'), score=1000.0)], metadata={'8325fc08-a466-40aa-9604-ee4b5598ec9b': {'kg_rel_texts': [\"['SÃO_ESPECÍFICAS_DO', 'Curso de inteligência artificial', 'TEM_DURAÇÃO_DE', 'Oito semestres']\", \"('Atividades de extensão', 'Devem compor', '10% do total da carga horária curricular')\", \"['OFERECIDAS_POR', 'Inf', 'É', 'Protagonista em cursos de graduação e pós-graduação']\", \"['OFERECIDAS_POR', 'Inf', 'OFERECE', 'Mestrado acadêmico em ciência da computação']\", \"['SÃO_ESPECÍFICAS_DO', 'Curso de inteligência artificial', 'É', 'Empreendedor']\", \"['OFERECIDAS_POR', 'Inf', 'CONSTRUIU', 'Consistente envolvimento com empresas']\", \"['OFERECIDAS_POR', 'Inf', 'PARTICIPOU_DE', 'Projetos de inovação tecnológica']\", \"('Atividades de extensão', 'Devem compor', '10% da carga horária curricular')\", \"['OFERECIDAS_POR', 'Inf', 'NÃO_HAVIA', 'Curso de inteligência artificial']\", \"['OPTATIVAS', 'Computação móvel e ubíqua', 'É', 'Disciplina optativa']\", \"['INCLUEM', 'Pesquisa e inovação', 'INCLUI', 'Tipologias da inovação']\", \"['INCLUEM', 'Pesquisa e inovação', 'INCLUI', 'Sistema de inovação']\", \"['OFERECIDAS_POR', 'Inf', 'APOIA_NA', 'Resolução cepec 1286/2014']\", \"['OFERECIDAS_POR', 'Inf', 'ATUA_NA_ÁREA_DE', 'Conhecimento em ia']\", \"['INCLUEM', 'Pesquisa e inovação', 'INCLUI', 'Método científico']\", \"('Disciplinas', 'Estão organizadas em', 'Oito períodos letivos')\", \"['SÃO_DO', 'Núcleo específico optativo', 'TEM', '6 disciplinas']\", \"['OFERECIDAS_POR', 'Inf', 'INSTRUI', 'Afastamento de docentes']\", \"['INCLUEM', 'Pesquisa e inovação', 'OFERECE', 'Visão exigida']\", \"['SÃO_ESPECÍFICAS_DO', 'Curso de inteligência artificial']\", \"['OFERECIDAS_POR', 'Inf', 'SE_OFERECEU_À', 'Ufg e mec']\", \"['OFERECIDAS_POR', 'Inf', 'OFERECE', '10 disciplinas']\", \"['INCLUEM', 'Pesquisa e inovação', 'É', 'Disciplina']\", \"['SÃO_OBRIGATÓRIAS', 'Núcleo específico obrigatório']\", \"['OFERECIDAS_POR', 'Inf', 'OFERECE', 'Disciplinas']\", \"['OFERECIDAS_POR', 'Inf', 'FOI_CRIADO_EM', '1996']\", \"['OFERECIDAS_POR', 'Inf', 'SE_OFERECEU_À', 'Mec']\", \"['ESTÃO_ORGANIZADAS_EM', 'Oito períodos letivos']\", \"['OFERECIDAS_POR', 'Inf', 'SE_OFERECEU_À', 'Ufg']\", \"('Matriz curricular', 'Perfaz', '34 disciplinas')\"], 'kg_rel_map': {'Disciplinas': [['ESTÃO_ORGANIZADAS_EM', 'Oito períodos letivos'], ['ORGANIZADAS_EM', 'Oito períodos letivos'], ['NÃO_TÊM', 'Correquisito'], ['SÃO_DO', 'Núcleo específico optativo'], ['SÃO_DO', 'Núcleo específico optativo', 'TEM', '6 disciplinas'], ['OFERECIDAS_POR', 'Inf'], ['OFERECIDAS_POR', 'Inf', 'INSTRUI', 'Afastamento de docentes'], ['OFERECIDAS_POR', 'Inf', 'APOIA_NA', 'Resolução cepec 1286/2014'], ['OFERECIDAS_POR', 'Inf', 'SE_OFERECEU_À', 'Ufg e mec'], ['OFERECIDAS_POR', 'Inf', 'SE_OFERECEU_À', 'Mec'], ['OFERECIDAS_POR', 'Inf', 'SE_OFERECEU_À', 'Ufg'], ['OFERECIDAS_POR', 'Inf', 'ATUA_NA_ÁREA_DE', 'Conhecimento em ia'], ['OFERECIDAS_POR', 'Inf', 'NÃO_HAVIA', 'Curso de inteligência artificial'], ['OFERECIDAS_POR', 'Inf', 'PARTICIPOU_DE', 'Projetos de inovação tecnológica'], ['OFERECIDAS_POR', 'Inf', 'CONSTRUIU', 'Consistente envolvimento com empresas'], ['OFERECIDAS_POR', 'Inf', 'FOI_CRIADO_EM', '1996'], ['OFERECIDAS_POR', 'Inf', 'OFERECE', '10 disciplinas'], ['OFERECIDAS_POR', 'Inf', 'OFERECE', 'Mestrado acadêmico em ciência da computação'], ['OFERECIDAS_POR', 'Inf', 'OFERECE', 'Disciplinas'], ['OFERECIDAS_POR', 'Inf', 'É', 'Protagonista em cursos de graduação e pós-graduação'], ['SÃO_OBRIGATÓRIAS', 'Núcleo específico obrigatório'], ['SÃO_ESPECÍFICAS_DO', 'Curso de inteligência artificial'], ['SÃO_ESPECÍFICAS_DO', 'Curso de inteligência artificial', 'É', 'Empreendedor'], ['SÃO_ESPECÍFICAS_DO', 'Curso de inteligência artificial', 'TEM_DURAÇÃO_DE', 'Oito semestres'], ['ABORDAM', 'Preservação ambiental'], ['REMETEM_PARA', 'Conhecimento de questões'], ['INCLUEM', 'Tópicos pertinentes'], ['INCLUEM', 'Computação e sociedade'], ['INCLUEM', 'Pesquisa e inovação'], ['INCLUEM', 'Pesquisa e inovação', 'INCLUI', 'Método científico'], ['INCLUEM', 'Pesquisa e inovação', 'INCLUI', 'Sistema de inovação'], ['INCLUEM', 'Pesquisa e inovação', 'INCLUI', 'Tipologias da inovação'], ['INCLUEM', 'Pesquisa e inovação', 'OFERECE', 'Visão exigida'], ['INCLUEM', 'Pesquisa e inovação', 'É', 'Disciplina'], ['ESPECÍFICAS_DO_BIA', 'Obrigatórias'], ['OPTATIVAS', 'Computação móvel e ubíqua'], ['OPTATIVAS', 'Computação móvel e ubíqua', 'É', 'Disciplina optativa'], ['DE', 'Formação básica']], 'Ensino': [['INTEGRAÇÃO_COM', 'Pesquisa e extensão']]}, 'kg_schema': {'schema': 'Node properties are the following:\\n\\nRelationship properties are the following:\\n\\nThe relationships are the following:\\n'}}})"
            ]
          },
          "execution_count": 29,
          "metadata": {},
          "output_type": "execute_result"
        }
      ],
      "source": [
        "response_2"
      ]
    },
    {
      "cell_type": "markdown",
      "metadata": {
        "id": "ncldf6fJNhQv"
      },
      "source": [
        "Nós recuperados:"
      ]
    },
    {
      "cell_type": "code",
      "execution_count": 30,
      "metadata": {
        "colab": {
          "base_uri": "https://localhost:8080/"
        },
        "id": "1nMLKv_c5D2g",
        "outputId": "49780c52-9ebe-4ebb-b2ac-3ff7e16f07e1"
      },
      "outputs": [
        {
          "data": {
            "text/plain": [
              "([[\"['SÃO_ESPECÍFICAS_DO', 'Curso de inteligência artificial', 'TEM_DURAÇÃO_DE', 'Oito semestres']\",\n",
              "   \"('Atividades de extensão', 'Devem compor', '10% do total da carga horária curricular')\",\n",
              "   \"['OFERECIDAS_POR', 'Inf', 'É', 'Protagonista em cursos de graduação e pós-graduação']\",\n",
              "   \"['OFERECIDAS_POR', 'Inf', 'OFERECE', 'Mestrado acadêmico em ciência da computação']\",\n",
              "   \"['SÃO_ESPECÍFICAS_DO', 'Curso de inteligência artificial', 'É', 'Empreendedor']\",\n",
              "   \"['OFERECIDAS_POR', 'Inf', 'CONSTRUIU', 'Consistente envolvimento com empresas']\",\n",
              "   \"['OFERECIDAS_POR', 'Inf', 'PARTICIPOU_DE', 'Projetos de inovação tecnológica']\",\n",
              "   \"('Atividades de extensão', 'Devem compor', '10% da carga horária curricular')\",\n",
              "   \"['OFERECIDAS_POR', 'Inf', 'NÃO_HAVIA', 'Curso de inteligência artificial']\",\n",
              "   \"['OPTATIVAS', 'Computação móvel e ubíqua', 'É', 'Disciplina optativa']\",\n",
              "   \"['INCLUEM', 'Pesquisa e inovação', 'INCLUI', 'Tipologias da inovação']\",\n",
              "   \"['INCLUEM', 'Pesquisa e inovação', 'INCLUI', 'Sistema de inovação']\",\n",
              "   \"['OFERECIDAS_POR', 'Inf', 'APOIA_NA', 'Resolução cepec 1286/2014']\",\n",
              "   \"['OFERECIDAS_POR', 'Inf', 'ATUA_NA_ÁREA_DE', 'Conhecimento em ia']\",\n",
              "   \"['INCLUEM', 'Pesquisa e inovação', 'INCLUI', 'Método científico']\",\n",
              "   \"('Disciplinas', 'Estão organizadas em', 'Oito períodos letivos')\",\n",
              "   \"['SÃO_DO', 'Núcleo específico optativo', 'TEM', '6 disciplinas']\",\n",
              "   \"['OFERECIDAS_POR', 'Inf', 'INSTRUI', 'Afastamento de docentes']\",\n",
              "   \"['INCLUEM', 'Pesquisa e inovação', 'OFERECE', 'Visão exigida']\",\n",
              "   \"['SÃO_ESPECÍFICAS_DO', 'Curso de inteligência artificial']\",\n",
              "   \"['OFERECIDAS_POR', 'Inf', 'SE_OFERECEU_À', 'Ufg e mec']\",\n",
              "   \"['OFERECIDAS_POR', 'Inf', 'OFERECE', '10 disciplinas']\",\n",
              "   \"['INCLUEM', 'Pesquisa e inovação', 'É', 'Disciplina']\",\n",
              "   \"['SÃO_OBRIGATÓRIAS', 'Núcleo específico obrigatório']\",\n",
              "   \"['OFERECIDAS_POR', 'Inf', 'OFERECE', 'Disciplinas']\",\n",
              "   \"['OFERECIDAS_POR', 'Inf', 'FOI_CRIADO_EM', '1996']\",\n",
              "   \"['OFERECIDAS_POR', 'Inf', 'SE_OFERECEU_À', 'Mec']\",\n",
              "   \"['ESTÃO_ORGANIZADAS_EM', 'Oito períodos letivos']\",\n",
              "   \"['OFERECIDAS_POR', 'Inf', 'SE_OFERECEU_À', 'Ufg']\",\n",
              "   \"('Matriz curricular', 'Perfaz', '34 disciplinas')\"]],\n",
              " [{'Disciplinas': [['ESTÃO_ORGANIZADAS_EM', 'Oito períodos letivos'],\n",
              "    ['ORGANIZADAS_EM', 'Oito períodos letivos'],\n",
              "    ['NÃO_TÊM', 'Correquisito'],\n",
              "    ['SÃO_DO', 'Núcleo específico optativo'],\n",
              "    ['SÃO_DO', 'Núcleo específico optativo', 'TEM', '6 disciplinas'],\n",
              "    ['OFERECIDAS_POR', 'Inf'],\n",
              "    ['OFERECIDAS_POR', 'Inf', 'INSTRUI', 'Afastamento de docentes'],\n",
              "    ['OFERECIDAS_POR', 'Inf', 'APOIA_NA', 'Resolução cepec 1286/2014'],\n",
              "    ['OFERECIDAS_POR', 'Inf', 'SE_OFERECEU_À', 'Ufg e mec'],\n",
              "    ['OFERECIDAS_POR', 'Inf', 'SE_OFERECEU_À', 'Mec'],\n",
              "    ['OFERECIDAS_POR', 'Inf', 'SE_OFERECEU_À', 'Ufg'],\n",
              "    ['OFERECIDAS_POR', 'Inf', 'ATUA_NA_ÁREA_DE', 'Conhecimento em ia'],\n",
              "    ['OFERECIDAS_POR', 'Inf', 'NÃO_HAVIA', 'Curso de inteligência artificial'],\n",
              "    ['OFERECIDAS_POR',\n",
              "     'Inf',\n",
              "     'PARTICIPOU_DE',\n",
              "     'Projetos de inovação tecnológica'],\n",
              "    ['OFERECIDAS_POR',\n",
              "     'Inf',\n",
              "     'CONSTRUIU',\n",
              "     'Consistente envolvimento com empresas'],\n",
              "    ['OFERECIDAS_POR', 'Inf', 'FOI_CRIADO_EM', '1996'],\n",
              "    ['OFERECIDAS_POR', 'Inf', 'OFERECE', '10 disciplinas'],\n",
              "    ['OFERECIDAS_POR',\n",
              "     'Inf',\n",
              "     'OFERECE',\n",
              "     'Mestrado acadêmico em ciência da computação'],\n",
              "    ['OFERECIDAS_POR', 'Inf', 'OFERECE', 'Disciplinas'],\n",
              "    ['OFERECIDAS_POR',\n",
              "     'Inf',\n",
              "     'É',\n",
              "     'Protagonista em cursos de graduação e pós-graduação'],\n",
              "    ['SÃO_OBRIGATÓRIAS', 'Núcleo específico obrigatório'],\n",
              "    ['SÃO_ESPECÍFICAS_DO', 'Curso de inteligência artificial'],\n",
              "    ['SÃO_ESPECÍFICAS_DO',\n",
              "     'Curso de inteligência artificial',\n",
              "     'É',\n",
              "     'Empreendedor'],\n",
              "    ['SÃO_ESPECÍFICAS_DO',\n",
              "     'Curso de inteligência artificial',\n",
              "     'TEM_DURAÇÃO_DE',\n",
              "     'Oito semestres'],\n",
              "    ['ABORDAM', 'Preservação ambiental'],\n",
              "    ['REMETEM_PARA', 'Conhecimento de questões'],\n",
              "    ['INCLUEM', 'Tópicos pertinentes'],\n",
              "    ['INCLUEM', 'Computação e sociedade'],\n",
              "    ['INCLUEM', 'Pesquisa e inovação'],\n",
              "    ['INCLUEM', 'Pesquisa e inovação', 'INCLUI', 'Método científico'],\n",
              "    ['INCLUEM', 'Pesquisa e inovação', 'INCLUI', 'Sistema de inovação'],\n",
              "    ['INCLUEM', 'Pesquisa e inovação', 'INCLUI', 'Tipologias da inovação'],\n",
              "    ['INCLUEM', 'Pesquisa e inovação', 'OFERECE', 'Visão exigida'],\n",
              "    ['INCLUEM', 'Pesquisa e inovação', 'É', 'Disciplina'],\n",
              "    ['ESPECÍFICAS_DO_BIA', 'Obrigatórias'],\n",
              "    ['OPTATIVAS', 'Computação móvel e ubíqua'],\n",
              "    ['OPTATIVAS', 'Computação móvel e ubíqua', 'É', 'Disciplina optativa'],\n",
              "    ['DE', 'Formação básica']],\n",
              "   'Ensino': [['INTEGRAÇÃO_COM', 'Pesquisa e extensão']]}])"
            ]
          },
          "execution_count": 30,
          "metadata": {},
          "output_type": "execute_result"
        }
      ],
      "source": [
        "kg_rel_texts = [node.node.metadata.get('kg_rel_texts', None) for node in response_2.source_nodes if node.node.metadata.get('kg_rel_texts', None) is not None]\n",
        "kg_rel_map = [node.node.metadata.get('kg_rel_map', None) for node in response_2.source_nodes if node.node.metadata.get('kg_rel_map', None) is not None]\n",
        "kg_rel_texts, kg_rel_map"
      ]
    },
    {
      "cell_type": "code",
      "execution_count": 31,
      "metadata": {
        "colab": {
          "base_uri": "https://localhost:8080/",
          "height": 81
        },
        "id": "Y_xAwuJcw9Vq",
        "outputId": "4e74dc2c-6db9-4f79-88fd-1fd36af418ef"
      },
      "outputs": [
        {
          "data": {
            "text/markdown": [
              "<b>A grade curricular possui 34 disciplinas.</b>"
            ],
            "text/plain": [
              "<IPython.core.display.Markdown object>"
            ]
          },
          "metadata": {},
          "output_type": "display_data"
        }
      ],
      "source": [
        "display(Markdown(f\"<b>{response_2}</b>\")) # Output do LLM\n"
      ]
    },
    {
      "cell_type": "markdown",
      "metadata": {
        "id": "wFzzOXA8e_I6"
      },
      "source": [
        "### Recuperação"
      ]
    },
    {
      "cell_type": "markdown",
      "metadata": {
        "id": "BFg21Dl7HeVA"
      },
      "source": [
        "Agora faremos testes apenas de recuperação"
      ]
    },
    {
      "cell_type": "code",
      "execution_count": null,
      "metadata": {
        "colab": {
          "base_uri": "https://localhost:8080/"
        },
        "id": "nth0J-6q_IHv",
        "outputId": "770e7046-1dd6-47e6-8159-6661dedd1847"
      },
      "outputs": [
        {
          "name": "stdout",
          "output_type": "stream",
          "text": [
            "Tempo de recuperação: 1.0273783206939697 segundos\n"
          ]
        }
      ],
      "source": [
        "inicio = time.time()\n",
        "retriever_response_1 = index.as_retriever(similarity_top_k=5, vector_store_query_mode=\"hybrid\").retrieve(\"São quantos períodos?\")\n",
        "fim = time.time()\n",
        "tempo_decorrido = fim - inicio\n",
        "print(f\"Tempo de recuperação: {tempo_decorrido} segundos\")"
      ]
    },
    {
      "cell_type": "code",
      "execution_count": null,
      "metadata": {
        "colab": {
          "base_uri": "https://localhost:8080/"
        },
        "id": "-_gwaiQt_OXh",
        "outputId": "26944057-db5d-4d63-b162-915957a15e21"
      },
      "outputs": [
        {
          "data": {
            "text/plain": [
              "[NodeWithScore(node=TextNode(id_='d823d0bf-b8ac-461c-ae20-ad9161123e29', embedding=None, metadata={}, excluded_embed_metadata_keys=[], excluded_llm_metadata_keys=[], relationships={<NodeRelationship.SOURCE: '1'>: RelatedNodeInfo(node_id='9474ce5b-cbd4-4b77-b3d3-9cbdb79b0797', node_type='4', metadata={}, hash='03e190d949f723e719307c7832ed256d038aeb3f200784589c313f95d0df0f06'), <NodeRelationship.PREVIOUS: '2'>: RelatedNodeInfo(node_id='509c216a-3a0d-4c2a-8d41-401b66b4d888', node_type='1', metadata={}, hash='6d8b59a92aeab11871b6ddf84b9fe3fbfc29812878f27efb4cebefd10797c848'), <NodeRelationship.NEXT: '3'>: RelatedNodeInfo(node_id='a06f5e53-541a-449e-9d5e-edc5a2b3e358', node_type='1', metadata={}, hash='602c121dfd20ff77ac51529ec25301751cd70d1e77bb7a2d37875015e20d70e5')}, metadata_template='{key}: {value}', metadata_separator='\\n', text='Fluxo sugerido\\nConforme o diagrama abaixo, as disciplinas estão organizadas em oito períodos letivos. Os quatro\\nprimeiros períodos concentram as disciplinas de formação básica em Computação e Matemática.\\nOs demais períodos incluem disciplinas com ênfase na formação específica em Inteligência\\nArtificial.\\n\\n\\n\\n\\n                                                     41\\n\\x0c                                          Quadro 5: Fluxo sugerido.\\n\\n        Introdução à\\n1º                                                     Lógica                                  Empreendedorismo\\n        Programação\\n                              Algoritmos e\\n                                                    Programação          Computação e             Transformação\\n2º        Cálculo 1         Estrutura de Dados\\n                                                 Orientada a Objetos         Sociedade                  Digital\\n                                    1\\n                              Algoritmos e\\n     Análise e Projeto de                                                Probabilidade e           Pensamento\\n3º                          Estrutura de Dados     Banco de Dados\\n         Algoritmos                                                         Estatística A       Analítico de Dados\\n                                    2\\n                                                   Aprendizado de        Processamento\\n       Arquitetura de                                                                          Mineração de Dados\\n4º                           Álgebra Linear           Máquina          Digital de Sinais e\\n       Computadores\\n                                                   Supervisionado             Imagens\\n                              Heurísticas e\\n          Redes de                                      Visão            Redes Neurais         Computação de Alto\\n5º                             Modelagem\\n       Computadores                                Computacional             Profundas             Desempenho\\n                              Multiobjetivo\\n                                                   Aprendizado de        Aprendizado de\\n                            Processamento de                                                    Processamento de\\n6º   Internet das Coisas                            Máquina por             Máquina Não\\n                             Dados Massivos                                                     Linguagem Natural\\n                                                       Reforço           Supervisionado\\n      Percepção e Ação      Processamento de     Apoio à Tomada de\\n7º                                                                     Pesquisa e Inovação           Optativa\\n          Robótica             Áudio e Voz             Decisão\\n8º                                      Residência em IA (384 h.) 100% Prática\\n\\n\\n\\n\\nOs oito semestres são detalhados nos quadros seguintes.', mimetype='text/plain', start_char_idx=98861, end_char_idx=101793, metadata_seperator='\\n', text_template='{metadata_str}\\n\\n{content}'), score=1000.0),\n",
              " NodeWithScore(node=TextNode(id_='509c216a-3a0d-4c2a-8d41-401b66b4d888', embedding=None, metadata={}, excluded_embed_metadata_keys=[], excluded_llm_metadata_keys=[], relationships={<NodeRelationship.SOURCE: '1'>: RelatedNodeInfo(node_id='9474ce5b-cbd4-4b77-b3d3-9cbdb79b0797', node_type='4', metadata={}, hash='03e190d949f723e719307c7832ed256d038aeb3f200784589c313f95d0df0f06'), <NodeRelationship.PREVIOUS: '2'>: RelatedNodeInfo(node_id='6761518d-5cd9-459e-90c2-dbb68703cb11', node_type='1', metadata={}, hash='22a9cc4ef68e5b84aae205fc0c73be6f52e97729c05c2eb6945a9db95f72e043'), <NodeRelationship.NEXT: '3'>: RelatedNodeInfo(node_id='d823d0bf-b8ac-461c-ae20-ad9161123e29', node_type='1', metadata={}, hash='ed0589b4aadd5388858ad15c95c92f0b05bd1504fede746f1a69f573a0b53474')}, metadata_template='{key}: {value}', metadata_separator='\\n', text='Distribuição da carga horária\\nOs Quadros 1, 2 e 3, juntamente com a definição das horas do Núcleo Livre (NL) e das Atividades\\nComplementares, seções acima, resultam nos valores apresentados no Quadro 4.\\n\\n\\n\\n                             Quadro 4: Distribuição da carga horária.\\n\\n                 Componentes curriculares                 CHT     Percentual\\n\\n                 Núcleo Comum (NC)                        896       28%\\n                 Núcleo Específico (NE) (obrigatório)     1600      50%\\n                 Núcleo Específico (NE) (optativo)         64        2%\\n                 Núcleo Livre (NL)                        128        4%\\n                 Atividades Complementares                192        6%\\n                 Atividades de Extensão                   320       10%\\n                         CARGA HORÁRIA TOTAL (CHT)        3200      100%\\n\\n\\n\\n\\nFluxo sugerido\\nConforme o diagrama abaixo, as disciplinas estão organizadas em oito períodos letivos. Os quatro\\nprimeiros períodos concentram as disciplinas de formação básica em Computação e Matemática.\\nOs demais períodos incluem disciplinas com ênfase na formação específica em Inteligência\\nArtificial.', mimetype='text/plain', start_char_idx=97997, end_char_idx=99165, metadata_seperator='\\n', text_template='{metadata_str}\\n\\n{content}'), score=1000.0),\n",
              " NodeWithScore(node=TextNode(id_='192fbf0e-6f09-4894-8903-0342d934880d', embedding=None, metadata={}, excluded_embed_metadata_keys=[], excluded_llm_metadata_keys=[], relationships={<NodeRelationship.SOURCE: '1'>: RelatedNodeInfo(node_id='9474ce5b-cbd4-4b77-b3d3-9cbdb79b0797', node_type='4', metadata={}, hash='03e190d949f723e719307c7832ed256d038aeb3f200784589c313f95d0df0f06'), <NodeRelationship.PREVIOUS: '2'>: RelatedNodeInfo(node_id='0d919325-cb33-4697-872c-a8d9559c7111', node_type='1', metadata={}, hash='8ebcff1c781b9a96dd3a597cacd8387f77f3462052aeba3c3309dc124bd5c750'), <NodeRelationship.NEXT: '3'>: RelatedNodeInfo(node_id='74b91728-6f29-40e5-b1d3-bb3984005219', node_type='1', metadata={}, hash='42580973a311d1f10a89d3af61f89a0d6d379d7874a5e6f8a96012d70e0f885e')}, metadata_template='{key}: {value}', metadata_separator='\\n', text='38\\n\\x0cAs disciplinas do Quadro 2, por outro lado, são específicas do curso de Inteligência Artificial.\\nTodas elas são obrigatórias, fazem parte do Núcleo Específico Obrigatório (NEOB) e são\\noferecidas pelo INF. Em particular, a disciplina Residência em Inteligência Artificial será\\nministrada por mais de um professor, sendo esperado um número de cinco docentes.\\n\\n\\n\\n           Quadro 2: Disciplinas do Núcleo Especíﬁco Obrigatório. Não há correquisito.\\n\\n Nº Disciplina                                             Pré     Unidade TEO     PRA   CHT   Núcleo\\n\\n 14 Empreendedorismo                                                 INF     32    32    64    NEOB\\n 15 Transformação Digital                                   14       INF     32    32    64    NEOB\\n 16 Pensamento Analítico de Dados                                    INF     32    32    64    NEOB\\n 17 Mineração de Dados                                      16       INF     32    32    64    NEOB\\n 18 Aprendizado de Máquina Supervisionado                            INF     32    32    64    NEOB\\n 19 Processamento Digital de Sinais e Imagens                        INF     32    32    64    NEOB\\n 20 Heurísticas e Modelagem Multiobjetivo                            INF     32    32    64    NEOB\\n 21 Redes Neurais Profundas                                 3        INF     32    32    64    NEOB\\n 22 Visão Computacional                                     19       INF     32    32    64    NEOB\\n 23 Computação de Alto Desempenho                                    INF     32    32    64    NEOB\\n 24 Internet das Coisas                                     13       INF     32    32    64    NEOB\\n 25 Processamento de Linguagem Natural                      21       INF     32    32    64    NEOB\\n 26 Aprendizado de Máquina Não Supervisionado               18       INF     32    32    64    NEOB\\n 27 Aprendizado de Máquina por Reforço                      21       INF     32    32    64    NEOB\\n 28 Processamento de Dados Massivos                         23       INF     32    32    64    NEOB\\n 29 Percepção e Ação Robótica                             20,', mimetype='text/plain', start_char_idx=92253, end_char_idx=94369, metadata_seperator='\\n', text_template='{metadata_str}\\n\\n{content}'), score=1000.0),\n",
              " NodeWithScore(node=TextNode(id_='55ecdb2b-619d-469d-bd5a-58262427946d', embedding=None, metadata={}, excluded_embed_metadata_keys=[], excluded_llm_metadata_keys=[], relationships={<NodeRelationship.SOURCE: '1'>: RelatedNodeInfo(node_id='9474ce5b-cbd4-4b77-b3d3-9cbdb79b0797', node_type='4', metadata={}, hash='03e190d949f723e719307c7832ed256d038aeb3f200784589c313f95d0df0f06'), <NodeRelationship.PREVIOUS: '2'>: RelatedNodeInfo(node_id='39b7706f-17c4-44b8-9b02-c6b1a47d2bf1', node_type='1', metadata={}, hash='38237244c5bdb79b1b00ce3c64fbf867a487ebb352ed79d1dde10eb8269fc16f'), <NodeRelationship.NEXT: '3'>: RelatedNodeInfo(node_id='e320eece-5851-4d6d-98a1-3dce31e9cdb9', node_type='1', metadata={}, hash='09d360635b1e45e76b77567f076f3cf8febfda77bccb148d1ea977ab6699b5dc')}, metadata_template='{key}: {value}', metadata_separator='\\n', text='Estratégia da deﬁnição das disciplinas\\nAs disciplinas do BIA foram definidas a partir do cruzamento de fronteiras de subáreas do\\nconhecimento da Inteligência Artificial, Computação e Matemática. A estratégia na qual se define\\numa disciplina por subárea foi prescindida. Convém ressaltar que o corpo de conhecimento da\\nárea foi extensivamente discutido e empregado.\\n\\n\\n                                                 21\\n\\x0cEm vez de adotar a classificação comumente empregada em disciplinas de graduação e pós-\\ngraduação ou em livros amplamente adotados, o conteúdo (ementa) atribuído a cada disciplina do\\nBIA levou em consideração tópicos entre os quais há sinergia. Essa orientação é compatível com\\npráticas em Inteligência Artificial, que não apenas reconhece, mas também respeita os vínculos\\nentre as suas subáreas. Isso resultou em disciplinas coerentes com a prática em Inteligência\\nArtificial.\\n\\n\\nA Figura 4 ilustra uma disciplina X qualquer do BIA, composta por conteúdo das subáreas A, B e\\nC. Isso significa que o conteúdo de X não está contido estritamente na subárea A, B ou C. Em vez\\ndisso, reúne e explora a interdependência de conceitos destas quatro subáreas.\\n\\n\\n\\n\\n              Figura 4: Disciplina do curso baseada em conhecimento de várias subáreas.', mimetype='text/plain', start_char_idx=53189, end_char_idx=54451, metadata_seperator='\\n', text_template='{metadata_str}\\n\\n{content}'), score=1000.0),\n",
              " NodeWithScore(node=TextNode(id_='0d919325-cb33-4697-872c-a8d9559c7111', embedding=None, metadata={}, excluded_embed_metadata_keys=[], excluded_llm_metadata_keys=[], relationships={<NodeRelationship.SOURCE: '1'>: RelatedNodeInfo(node_id='9474ce5b-cbd4-4b77-b3d3-9cbdb79b0797', node_type='4', metadata={}, hash='03e190d949f723e719307c7832ed256d038aeb3f200784589c313f95d0df0f06'), <NodeRelationship.PREVIOUS: '2'>: RelatedNodeInfo(node_id='12e9ccba-2fa4-49de-8db5-f0b69b73553f', node_type='1', metadata={}, hash='74cf9edaaf980ed93bb7be84ab678574093d3a70a9e72713fc09a9c2c09bd2b5'), <NodeRelationship.NEXT: '3'>: RelatedNodeInfo(node_id='192fbf0e-6f09-4894-8903-0342d934880d', node_type='1', metadata={}, hash='75689eed1053bead95d119fb25b6d61b037897eb911086da97cf5fb3065026bd')}, metadata_template='{key}: {value}', metadata_separator='\\n', text='38\\n\\x0cAs disciplinas do Quadro 2, por outro lado, são específicas do curso de Inteligência Artificial.\\nTodas elas são obrigatórias, fazem parte do Núcleo Específico Obrigatório (NEOB) e são\\noferecidas pelo INF. Em particular, a disciplina Residência em Inteligência Artificial será\\nministrada por mais de um professor, sendo esperado um número de cinco docentes.\\n\\n\\n\\n           Quadro 2: Disciplinas do Núcleo Especíﬁco Obrigatório. Não há correquisito.', mimetype='text/plain', start_char_idx=92253, end_char_idx=92703, metadata_seperator='\\n', text_template='{metadata_str}\\n\\n{content}'), score=1000.0),\n",
              " NodeWithScore(node=TextNode(id_='cb57846e-9784-47bd-95a0-354961e2f5fc', embedding=None, metadata={}, excluded_embed_metadata_keys=[], excluded_llm_metadata_keys=[], relationships={<NodeRelationship.SOURCE: '1'>: RelatedNodeInfo(node_id='9474ce5b-cbd4-4b77-b3d3-9cbdb79b0797', node_type='4', metadata={}, hash='03e190d949f723e719307c7832ed256d038aeb3f200784589c313f95d0df0f06'), <NodeRelationship.PREVIOUS: '2'>: RelatedNodeInfo(node_id='3393640c-9a8c-4ce1-b911-0dd3028879e1', node_type='1', metadata={}, hash='c064770f29ee2024922dff7b7c239a93ebd2c568cfb62e68b729c7d475e7ca87'), <NodeRelationship.NEXT: '3'>: RelatedNodeInfo(node_id='c69cf099-88d9-42b7-8c6e-5a3d86a53335', node_type='1', metadata={}, hash='71fcb999f9c04cddb10be64e3c213251e82dfb8cd20a3638c359bf64b3fd2f74')}, metadata_template='{key}: {value}', metadata_separator='\\n', text='poluentes e geração de lixo eletrônico. Tais dados podem ser empregados para ilustrar o\\nfuncionamento de algoritmos e visualização de informações, dentre outras possibilidades.\\n\\n\\n\\n\\n                                                 34\\n\\x0cConvém destacar que esses exemplos devem ser vistos como elementos de inspiração, a serem\\nrenovados continuamente.\\n\\n\\nDisciplinas obrigatórias\\nAs disciplinas Computação e Sociedade e Pesquisa e Inovação (previstas para os 2° e 7° períodos,\\nrespectivamente) incluem, em seus ementários, tópicos pertinentes às exigências da Resolução.\\nEm particular, remetem para o conhecimento de questões relativas à educação e conscientização\\nda preservação ambiental.', mimetype='text/plain', start_char_idx=85247, end_char_idx=85933, metadata_seperator='\\n', text_template='{metadata_str}\\n\\n{content}'), score=1000.0),\n",
              " NodeWithScore(node=TextNode(id_='0b08f0a0-14ee-4d0e-80fd-c030e88bc311', embedding=None, metadata={}, excluded_embed_metadata_keys=[], excluded_llm_metadata_keys=[], relationships={<NodeRelationship.SOURCE: '1'>: RelatedNodeInfo(node_id='9474ce5b-cbd4-4b77-b3d3-9cbdb79b0797', node_type='4', metadata={}, hash='03e190d949f723e719307c7832ed256d038aeb3f200784589c313f95d0df0f06'), <NodeRelationship.PREVIOUS: '2'>: RelatedNodeInfo(node_id='9d8a007a-5657-4b45-a1ad-5cd749558b62', node_type='1', metadata={}, hash='39c93d90af96c793bb22b1269d359a73e1128a344e577d4a7d1f01c3880058a9'), <NodeRelationship.NEXT: '3'>: RelatedNodeInfo(node_id='87d84c98-7cb5-436a-b33d-1b66ca2e9304', node_type='1', metadata={}, hash='21a7082b8416c56283d9e5caa1e47a4da8252a67340fe10701d244d719beb0ba')}, metadata_template='{key}: {value}', metadata_separator='\\n', text='43\\n\\x0c                                               5º PERÍODO\\n\\n                               Disciplina                               CHT     Natureza     Núcleo\\n\\nRedes de Computadores                                                    64    Obrigatória    NC\\n\\nHeurísticas e Modelagem Multiobjetivo                                    64    Obrigatória    NE\\n\\nRedes Neurais Profundas                                                  64    Obrigatória    NE\\n\\nVisão Computacional                                                      64    Obrigatória    NE\\n\\nComputação de Alto Desempenho                                            64    Obrigatória    NE\\n\\n                                             Carga horária do período   320\\n\\n                                             Carga horária acumulada    1536\\n\\n\\n\\n\\n                                               6º PERÍODO\\n\\n                               Disciplina                               CHT     Natureza     Núcleo\\n\\nInternet das Coisas                                                      64    Obrigatória    NE\\n\\nProcessamento de Linguagem Natural                                       64    Obrigatória    NE\\n\\nAprendizado de Máquinas Não Supervisionado                               64    Obrigatória    NE\\n\\nAprendizado de Máquinas por Reforço                                      64    Obrigatória    NE\\n\\nProcessamento de Dados Massivos                                          64    Obrigatória    NE\\n\\n                                             Carga horária do período    320\\n\\n                                             Carga horária acumulada    1856\\n\\n\\n\\n\\n                                               7º PERÍODO\\n\\n                               Disciplina                               CHT     Natureza     Núcleo\\n\\nPercepção e Ação Robótica                                                96    Obrigatória    NE\\n\\nApoio à Tomada de Decisão                                                64    Obrigatória    NE\\n\\nProcessamento de Áudio e Voz                                             64    Obrigatória    NE\\n\\nPesquisa e Inovação                                                      32    Obrigatória    NE\\n\\nOPTATIVA                                                                 64     Optativa      NE\\n\\n                                             Carga horária do período   320\\n\\n                                             Carga horária acumulada    2176\\n\\n\\n\\n\\n                                                   44\\n\\x0c                                                                   8º PERÍODO\\n\\n                                   Disciplina                                   CHT     Natureza     Núcleo\\n\\nResidência em Inteligência Artificial                                           384    Obrigatória   NE\\n\\n                                                  Carga horária do período      384\\n\\n                                                  Carga horária acumulada       2560', mimetype='text/plain', start_char_idx=105102, end_char_idx=108048, metadata_seperator='\\n', text_template='{metadata_str}\\n\\n{content}'), score=1000.0),\n",
              " NodeWithScore(node=TextNode(id_='d35c27ef-d38a-4d6f-98d6-bfb36202e231', embedding=None, metadata={}, excluded_embed_metadata_keys=[], excluded_llm_metadata_keys=[], relationships={<NodeRelationship.SOURCE: '1'>: RelatedNodeInfo(node_id='9989d9e8-d35e-4b8e-aee2-fa6af69cfec0', node_type='4', metadata={}, hash='0c9b859b03f3d9b98242d365fcac511f8b268fdc91cc73d313cccee2d38ed66c'), <NodeRelationship.PREVIOUS: '2'>: RelatedNodeInfo(node_id='113e3afa-1a1e-4e2a-b2cc-8e20713362df', node_type='1', metadata={}, hash='8284e49cbcbce1a2e8bd7386fc157efd49074f6525d1ffed4233b07c4b44d170'), <NodeRelationship.NEXT: '3'>: RelatedNodeInfo(node_id='211b6789-7bc2-41ac-afd8-ef4d4fa2b639', node_type='1', metadata={}, hash='c075e7fc72a452d1eb0ca726e99f1a2a1162930634ec18b4e741e843214635fe')}, metadata_template='{key}: {value}', metadata_separator='\\n', text='Porque você vai atuar de acordo com seu nível. Então, se você é iniciante, você vai fazer tarefas, tarefas mais básicas. Se você está mais avançado, você vai fazer tarefas mais avançadas, mas o mais importante é que você vai estar sendo incluso. Então, se você tem a preocupação de lá no futuro, só vou conseguir atuar depois que eu me formar. Ou senão depois que eu me formar. Como que eu vou atuar? Como que as empresas vão me achar? Aqui você não vai ter essa dúvida, porque a partir do momento que você entra, você já vai ter contato com empresas. Você já vai participar de reuniões semanais com empresas. Você vai conhecer donos de empresas que você não conheceria em qualquer outro curso. E é claro que todo curso tem suas dificuldades. Você vai ter disciplinas que você vai ter que se esforçar mais, que você vai ter alguma dificuldade, mas tudo no final tem uma recompensa. Porque essa experiência com as empresas, elas não são apenas experiências, visto que você também é recompensado por isso. Uma vez que os alunos, ao participar dessas experiências com as empresas, eles são remunerados. Eles recebem bolsas. Toda dificuldade tem uma justificativa, porque no final vai ter uma recompensa.\\n\\nSpeaker4: [00:12:42] Eu me chamo Jonas e estou no quinto período. Eu escolhi fazer parte do Bia, que é o bacharelado de Inteligência Artificial por motivos de afinidade com tecnologia. Desde sempre eu me vi já inserido nesse meio digital. Desde pequeno gostei muito de tecnologia e acredito que se você, assim como eu, tem essa afinidade, você vai se dar muito bem aqui no curso. Acredito também que se você gosta de matemática e gosta de programação, você também vai se dar bem aqui no curso. Oportunidades não vão faltar.', mimetype='text/plain', start_char_idx=10344, end_char_idx=12069, metadata_seperator='\\n', text_template='{metadata_str}\\n\\n{content}'), score=1000.0),\n",
              " NodeWithScore(node=TextNode(id_='2b60f326-fc4c-46b6-9a4a-77e607ff29b5', embedding=None, metadata={}, excluded_embed_metadata_keys=[], excluded_llm_metadata_keys=[], relationships={<NodeRelationship.SOURCE: '1'>: RelatedNodeInfo(node_id='9474ce5b-cbd4-4b77-b3d3-9cbdb79b0797', node_type='4', metadata={}, hash='03e190d949f723e719307c7832ed256d038aeb3f200784589c313f95d0df0f06'), <NodeRelationship.PREVIOUS: '2'>: RelatedNodeInfo(node_id='2387cbd7-d03b-4366-82e0-4f8804020275', node_type='1', metadata={}, hash='05d52a66ed5d4120b85abd23be5e18143ba42b0932551d4e19a23170dc95cc42'), <NodeRelationship.NEXT: '3'>: RelatedNodeInfo(node_id='8c04484d-0736-431d-956e-da9071e2841d', node_type='1', metadata={}, hash='0cca09baa8ad026417e8d333b52a3f730e5d6d3f1d2ef207e65ca51842cc24a4')}, metadata_template='{key}: {value}', metadata_separator='\\n', text='Internet das Coisas\\nNúcleo   TEO   PRA   TOTAL Período   Unidade Obrigatória   Pré-requisito:\\nNE       32 32       64    6o        INF      Sim          Redes de Computadores\\n\\nEmenta\\n     1. Arquiteturas de IoT (12h).\\n     2. Plataformas de hardware e sensores (12h).\\n     3. Programação e otimização de software para soluções embarcadas (16h).\\n     4. Computação em nuvem e virtualização (8h).\\n     5. Segurança da informação (8h).\\n     6. Estudo de casos e aplicações (8h).\\n\\nCondições mínimas (estar apto a):\\n     1. (Faz sem orientação). Explicar as principais arquiteturas e plataformas de suporte da IoT.\\n     2. (Faz com orientação). Reconhecer a importância da segurança da informação e da\\n         computação em nuvem na construção de soluções.\\n     3. (Segue instruções). Programar soluções embarcadas.', mimetype='text/plain', start_char_idx=140536, end_char_idx=141347, metadata_seperator='\\n', text_template='{metadata_str}\\n\\n{content}'), score=1000.0),\n",
              " NodeWithScore(node=TextNode(id_='a92480ee-89f7-4f68-ab15-0c6e4f4932e5', embedding=None, metadata={}, excluded_embed_metadata_keys=[], excluded_llm_metadata_keys=[], relationships={<NodeRelationship.SOURCE: '1'>: RelatedNodeInfo(node_id='9474ce5b-cbd4-4b77-b3d3-9cbdb79b0797', node_type='4', metadata={}, hash='03e190d949f723e719307c7832ed256d038aeb3f200784589c313f95d0df0f06'), <NodeRelationship.PREVIOUS: '2'>: RelatedNodeInfo(node_id='1db0b623-c7fc-4501-8201-a9e528602ed4', node_type='1', metadata={}, hash='9e6b3d37aec50b0dc4b091a74e40bc7748e204989ca5ced9a95bb8583064f4c9'), <NodeRelationship.NEXT: '3'>: RelatedNodeInfo(node_id='691799d4-8f05-4ed5-b9b3-3de09b2cc030', node_type='1', metadata={}, hash='340e1ea4e26d8b7334b21cb0e0c832cdad9cc79d06527b5ff1427ee1ce3224e0')}, metadata_template='{key}: {value}', metadata_separator='\\n', text='88\\n\\x0cInternet das Coisas\\nBibliograﬁa básica\\n    •   DE OLIVEIRA, S. Internet das Coisas com ESP8266, Arduino e Raspberry Pi. Novatec\\n        Editora, 2017.\\n    •   JUNIOR, S. L. S. Internet das Coisas - Fundamentos e Aplicações em Arduino e\\n        NodeMCU. Editora Érica, 2018.\\n    •   SINCLAIR, B.; DA SERRA, A. C. C. IoT: Como Usar a Internet Das Coisas Para\\n        Alavancar Seus Negócios. Autêntica Business, 2018.\\n\\nBibliograﬁa complementar\\n    •   JAVED, A. Criando projetos com Arduino para a Internet das Coisas: Experimentos com\\n        aplicações do mundo real – Um guia para o entusiasta de Arduino ávido por aprender,\\n        Novatec Editora, 2018.\\n    •   LEA, P. Internet of Things for Architects: Architecting IoT solutions by implementing\\n        sensors, communication infrastructure, edge computing, analytics, and security. Packt\\n        Publishing Ltd, 2018.\\n    •   KUROSE, J.F.; ROSS, K. Redes de Computadores e a Internet, 6a. edição. Pearson\\n        Education, 2013.\\n    •   STALLINGS, W.; Case, T. Redes e Sistemas de Comunicação de Dados, 2a. edição,\\n        Elsevier, 2018.\\n    •   MINTEER, A. Analytics for the Internet of Things (IoT): Intelligent analytics for your\\n        intelligent devices, Packt Publishing, 2017.', mimetype='text/plain', start_char_idx=184560, end_char_idx=185808, metadata_seperator='\\n', text_template='{metadata_str}\\n\\n{content}'), score=1000.0),\n",
              " NodeWithScore(node=TextNode(id_='0fc15f14-ae86-4c23-a717-04cc9c0de8c3', embedding=None, metadata={'kg_rel_texts': [\"('Quatro primeiros períodos', 'Concentram', 'Disciplinas de formação básica em computação e matemática')\", \"('Disciplinas', 'Estão organizadas em', 'Oito períodos letivos')\", \"('Disciplinas', 'Organizadas em', 'Oito períodos letivos')\", \"('6º período', 'Inclui', 'Internet das coisas')\", \"('Jonas', 'Está no', 'Quinto período')\"], 'kg_rel_map': {}, 'kg_schema': {'schema': 'Node properties are the following:\\n\\nRelationship properties are the following:\\n\\nThe relationships are the following:\\n'}}, excluded_embed_metadata_keys=['kg_rel_map', 'kg_rel_texts'], excluded_llm_metadata_keys=['kg_rel_map', 'kg_rel_texts'], relationships={}, metadata_template='{key}: {value}', metadata_separator='\\n', text=\"The following are knowledge sequence in max depth 2 in the form of directed graph like:\\n`subject -[predicate]->, object, <-[predicate_next_hop]-, object_next_hop ...`\\n('Quatro primeiros períodos', 'Concentram', 'Disciplinas de formação básica em computação e matemática')\\n('Disciplinas', 'Estão organizadas em', 'Oito períodos letivos')\\n('Disciplinas', 'Organizadas em', 'Oito períodos letivos')\\n('6º período', 'Inclui', 'Internet das coisas')\\n('Jonas', 'Está no', 'Quinto período')\", mimetype='text/plain', start_char_idx=None, end_char_idx=None, metadata_seperator='\\n', text_template='{metadata_str}\\n\\n{content}'), score=1000.0)]"
            ]
          },
          "execution_count": 46,
          "metadata": {},
          "output_type": "execute_result"
        }
      ],
      "source": [
        "retriever_response_1"
      ]
    },
    {
      "cell_type": "markdown",
      "metadata": {
        "id": "7J0G_CLeNjTm"
      },
      "source": [
        "Nós recuperados:"
      ]
    },
    {
      "cell_type": "code",
      "execution_count": null,
      "metadata": {
        "colab": {
          "base_uri": "https://localhost:8080/"
        },
        "id": "9FDsC5nVLBYh",
        "outputId": "26ee668c-5614-429c-9012-cc2cecf4d8fb"
      },
      "outputs": [
        {
          "data": {
            "text/plain": [
              "([[\"('Quatro primeiros períodos', 'Concentram', 'Disciplinas de formação básica em computação e matemática')\",\n",
              "   \"('Disciplinas', 'Estão organizadas em', 'Oito períodos letivos')\",\n",
              "   \"('Disciplinas', 'Organizadas em', 'Oito períodos letivos')\",\n",
              "   \"('6º período', 'Inclui', 'Internet das coisas')\",\n",
              "   \"('Jonas', 'Está no', 'Quinto período')\"]],\n",
              " [{}])"
            ]
          },
          "execution_count": 47,
          "metadata": {},
          "output_type": "execute_result"
        }
      ],
      "source": [
        "kg_rel_texts = [node.node.metadata.get('kg_rel_texts', None) for node in retriever_response_1 if node.node.metadata.get('kg_rel_texts', None) is not None]\n",
        "kg_rel_map = [node.node.metadata.get('kg_rel_map', None) for node in retriever_response_1 if node.node.metadata.get('kg_rel_map', None) is not None]\n",
        "kg_rel_texts, kg_rel_map"
      ]
    },
    {
      "cell_type": "code",
      "execution_count": null,
      "metadata": {
        "colab": {
          "base_uri": "https://localhost:8080/"
        },
        "id": "ezS9Y-JNLh0v",
        "outputId": "5fac052f-9820-4f9e-c9cb-d58feccc6a9d"
      },
      "outputs": [
        {
          "name": "stdout",
          "output_type": "stream",
          "text": [
            "Tempo de recuperação: 0.9115521907806396 segundos\n"
          ]
        }
      ],
      "source": [
        "inicio = time.time()\n",
        "retriever_response_2 = index.as_retriever(similarity_top_k=5, vector_store_query_mode=\"hybrid\").retrieve(\"é integral o curso?\")\n",
        "fim = time.time()\n",
        "tempo_decorrido = fim - inicio\n",
        "print(f\"Tempo de recuperação: {tempo_decorrido} segundos\")"
      ]
    },
    {
      "cell_type": "code",
      "execution_count": null,
      "metadata": {
        "colab": {
          "base_uri": "https://localhost:8080/"
        },
        "id": "x96XlTJTLrwF",
        "outputId": "4b80142d-75c7-4cd6-fc79-d18def80cd0f"
      },
      "outputs": [
        {
          "data": {
            "text/plain": [
              "[NodeWithScore(node=TextNode(id_='ae574b1e-e48e-4e19-8975-ed352c00b30c', embedding=None, metadata={}, excluded_embed_metadata_keys=[], excluded_llm_metadata_keys=[], relationships={<NodeRelationship.SOURCE: '1'>: RelatedNodeInfo(node_id='9474ce5b-cbd4-4b77-b3d3-9cbdb79b0797', node_type='4', metadata={}, hash='03e190d949f723e719307c7832ed256d038aeb3f200784589c313f95d0df0f06'), <NodeRelationship.PREVIOUS: '2'>: RelatedNodeInfo(node_id='17dd7a05-ad73-4306-a2ef-28abc9f44e6d', node_type='1', metadata={}, hash='404dbbf68dd7c2edd276b666e7a9277ef80fb64fe5fa2b8a39ef377adfa81cfa'), <NodeRelationship.NEXT: '3'>: RelatedNodeInfo(node_id='69598bf6-5b45-4ad2-ba20-a950a362b744', node_type='1', metadata={}, hash='ff65adff2f2727bb5dfef49c43a3f793919c200d66981f8c13347193511a1a7a')}, metadata_template='{key}: {value}', metadata_separator='\\n', text='O Programa de Residência em Inteligência Artificial é uma disciplina que é integralizada com 384\\nhoras de atividades nos projetos do programa. Ela é ofertada a cada semestre letivo e os docentes\\natuam como preceptores, sendo estes os profissionais responsáveis pela integração teoria-prática\\nao longo do programa, ensinando, supervisionando, orientando e conduzindo o aluno na prática\\nefetiva de sua futura profissão.', mimetype='text/plain', start_char_idx=153595, end_char_idx=154012, metadata_seperator='\\n', text_template='{metadata_str}\\n\\n{content}'), score=1000.0),\n",
              " NodeWithScore(node=TextNode(id_='69598bf6-5b45-4ad2-ba20-a950a362b744', embedding=None, metadata={}, excluded_embed_metadata_keys=[], excluded_llm_metadata_keys=[], relationships={<NodeRelationship.SOURCE: '1'>: RelatedNodeInfo(node_id='9474ce5b-cbd4-4b77-b3d3-9cbdb79b0797', node_type='4', metadata={}, hash='03e190d949f723e719307c7832ed256d038aeb3f200784589c313f95d0df0f06'), <NodeRelationship.PREVIOUS: '2'>: RelatedNodeInfo(node_id='ae574b1e-e48e-4e19-8975-ed352c00b30c', node_type='1', metadata={}, hash='c3756953b6aa4849bfc1a8b4c60ec084abe9cda0f6d46ba1ea86e96ac3bdeacc'), <NodeRelationship.NEXT: '3'>: RelatedNodeInfo(node_id='aa701050-c2ec-4bfd-89a9-ab0fa66bdee0', node_type='1', metadata={}, hash='dc2da693443da0d17cc073a6ee258815978e08ec7e9f6064694e6f62b38294b3')}, metadata_template='{key}: {value}', metadata_separator='\\n', text='O Programa de Residência em Inteligência Artificial é uma disciplina que é integralizada com 384\\nhoras de atividades nos projetos do programa. Ela é ofertada a cada semestre letivo e os docentes\\natuam como preceptores, sendo estes os profissionais responsáveis pela integração teoria-prática\\nao longo do programa, ensinando, supervisionando, orientando e conduzindo o aluno na prática\\nefetiva de sua futura profissão.\\n\\n\\nO objetivo é gerar uma oportunidade ao aluno concluinte do curso de Bacharelado em Inteligência\\nArtificial a experiência em todas as etapas do processo de solução de um problema real, passando\\npela identificação e especificação do problema, levantamento da fundamentação teórica\\nnecessária, identificação de soluções existentes para problemas similares/correlatos, modelagem,\\nconstrução da solução propriamente dita, além de documentação adequada de todo o processo.\\nAtuação como membro de uma equipe encarregada de resolver problemas reais com impacto\\ndireto na sociedade. Por fim, espera-se a consolidação dos conhecimentos, habilidades e\\ncompetências adquiridos no curso, aplicando-os de forma prática na solução de problemas reais.\\n\\nEmenta\\n         Resolução de problemas complexos por meio da utilização do conhecimento, habilidades\\n         e competências adquiridas no curso.\\n\\nCondições mínimas (estar apto a)\\n    1. (Faz sem orientação): Identificar se um determinado problema é passível de ser resolvido,\\n         utilizando ferramentas computacionais, a um custo aceitável.\\n    2. (Faz sem orientação): Estimar os custos associados à solução de um problema e o valor\\n         que sua solução trará para a sociedade.\\n    3. (Faz sem orientação): Construir um modelo computacional, a partir das diversas\\n         técnicas/paradigmas aprendidos no curso para a solução de um problema real.\\n    4. (Faz sem orientação): planejar uma estratégia para a solução de um problema real,\\n         incluindo a organização de equipes, definição de processos e avaliação de resultados.', mimetype='text/plain', start_char_idx=153595, end_char_idx=155595, metadata_seperator='\\n', text_template='{metadata_str}\\n\\n{content}'), score=1000.0),\n",
              " NodeWithScore(node=TextNode(id_='a0ac9318-9b97-4993-aebb-788f95ff6060', embedding=None, metadata={}, excluded_embed_metadata_keys=[], excluded_llm_metadata_keys=[], relationships={<NodeRelationship.SOURCE: '1'>: RelatedNodeInfo(node_id='9474ce5b-cbd4-4b77-b3d3-9cbdb79b0797', node_type='4', metadata={}, hash='03e190d949f723e719307c7832ed256d038aeb3f200784589c313f95d0df0f06'), <NodeRelationship.PREVIOUS: '2'>: RelatedNodeInfo(node_id='74728453-da60-4111-a5f5-2d1b0051633c', node_type='1', metadata={}, hash='90c135161f5aa89e963556e950e6cf095770942a820c2ce1184f7db872fac32d'), <NodeRelationship.NEXT: '3'>: RelatedNodeInfo(node_id='acbf891e-1035-461a-8f5d-185c525557bb', node_type='1', metadata={}, hash='4158af45f32b93a9521cfc427eed92508db388542db701e93e4329069290be01')}, metadata_template='{key}: {value}', metadata_separator='\\n', text='Disciplina “Residência em Inteligência Ar3ﬁcial”\\nEssa disciplina de 384 horas tem como objetivo explícito a participação do estudante em um ou\\nmais projetos integradores que usufruem de conhecimento e habilidades adquiridos por todo o\\ncurso. Os projetos exigem o contato com problemas reais, o que exige contato tanto com o\\nconhecimento quanto profissionais de outras áreas. Mais detalhes são apresentados na página 69.\\n\\n\\nA3vidades supervisionadas\\nDe acordo com a Resolução CNE/CES 03/2007 de 2 de julho de 2007, cabe às Instituições de\\nEducação Superior, respeitando o mínimo dos duzentos dias letivos de trabalho acadêmico efetivo,\\na definição da duração da atividade acadêmica ou do trabalho discente efetivo, o que compreende:\\n(a) preleções e aulas expositivas e (b) atividades práticas supervisionadas, tais como laboratórios,\\natividades em biblioteca, iniciação científica, trabalhos individuais e em grupo, práticas de ensino\\ne outras atividades no caso das licenciaturas.\\n\\nO BIA divide cada hora de atividade acadêmica em 50 minutos de preleções e aulas expositivas e\\n10 minutos de atividades práticas supervisionadas, em conformidade com o Regulamento Geral\\ndos Cursos de Graduação (RGCG) da UFG [CEPEC 2017]. O planejamento de cada hora deve\\nestar devidamente registrado no plano de cada disciplina. Em particular, o plano deve incluir de\\nforma clara as atividades práticas supervisionadas.\\n\\n\\n\\nVI - Núcleo Docente Estruturante (NDE)\\nO NDE do BIA adota os seguintes princípios:\\n    •   O NDE possui duas prioridades: a maior é colocar em prática o PPC; a seguinte é mantê-\\n        lo relevante.\\n    •   Qualquer questão que diz respeito às prioridades é do interesse do NDE e pode resultar\\n        em ação.\\n    •   Toda ação necessariamente deve gerar valor e estar alinhada com as prioridades.', mimetype='text/plain', start_char_idx=60273, end_char_idx=62076, metadata_seperator='\\n', text_template='{metadata_str}\\n\\n{content}'), score=1000.0),\n",
              " NodeWithScore(node=TextNode(id_='3ab297dd-f06f-4fd2-b88c-52254875671b', embedding=None, metadata={}, excluded_embed_metadata_keys=[], excluded_llm_metadata_keys=[], relationships={<NodeRelationship.SOURCE: '1'>: RelatedNodeInfo(node_id='9474ce5b-cbd4-4b77-b3d3-9cbdb79b0797', node_type='4', metadata={}, hash='03e190d949f723e719307c7832ed256d038aeb3f200784589c313f95d0df0f06'), <NodeRelationship.PREVIOUS: '2'>: RelatedNodeInfo(node_id='e83f617d-917f-493e-b780-b734925e3f56', node_type='1', metadata={}, hash='1c8f1ae548f24768a4b17778071df9a0bb8e279a8f3c1a6fc591be2477830455'), <NodeRelationship.NEXT: '3'>: RelatedNodeInfo(node_id='f783691b-9688-492f-a7d5-3308c5fd9f74', node_type='1', metadata={}, hash='a356b86980a5dfd8ae795ada67e82631138b021c8e44c67c76fe41cb8a364ed7')}, metadata_template='{key}: {value}', metadata_separator='\\n', text='A disciplina “Residência em Inteligência Artificial” (p. 69) é um ponto explícito do curso no qual\\na prática é o elemento principal, perfazendo 384 horas. O fazer, contudo, não está restrito a essa\\ndisciplina. A capacidade de realização de atividades pertinentes ao desenvolvimento de sistemas\\ninteligentes e autônomos é exigência em boa parte das disciplinas.\\n\\n\\nInterdisciplinaridade\\nProduzir sistemas inteligentes e autônomos significa, necessariamente, o encontro de, pelo menos,\\ndois domínios. O domínio da solução, no qual a Inteligência Artificial é exercitada e o domínio do\\nproblema, que justifica a existência de sistemas inteligentes e autônomos. O domínio do problema\\né “universal”, pois inclui logística, segurança, saúde, educação, gestão, transformação, controle,\\nautomação, dentre muitos outros. Fazer sistemas inteligentes e autônomos, portanto, por si só,\\nexige o contato com outras áreas do conhecimento.\\n\\nO acesso a outras áreas pode vir por meio das disciplinas do Núcleo Livre (NL). O BIA exige o\\nmínimo de 128 horas de disciplinas do NL para integralização curricular. Essas disciplinas são\\nescolhidas pelo estudante dentre todas aquelas oferecidas na UFG. O conjunto de opções de outras\\náreas do conhecimento é rico, o que contribui com uma formação ampla do estudante. Convém\\ndestacar que 128 horas perfazem a quantidade mínima exigida; todavia, o estudante pode fazer uso\\nde uma carga horária maior. O mesmo é válido para o estágio não obrigatório e para as atividades\\ncomplementares. O estudante deve cumprir um mínimo de 192 horas em atividades\\ncomplementares.\\n\\nA interdisciplinaridade estimulada pelos elementos citados acima é extra-curso. Aquela intra-curso\\né tratada tanto pela definição das disciplinas quanto pela disciplina “Residência em Inteligência\\nArtificial” (p. 69). Nesses casos a interdisciplinaridade é compulsória, pois faz parte da própria\\nconcepção do curso. Adicionalmente, sem restringir a liberdade metodológica do docente, cabe ao\\nNDE orientar a definição de programas de disciplinas que cultivem a interdisciplinaridade.', mimetype='text/plain', start_char_idx=55891, end_char_idx=57962, metadata_seperator='\\n', text_template='{metadata_str}\\n\\n{content}'), score=1000.0),\n",
              " NodeWithScore(node=TextNode(id_='74728453-da60-4111-a5f5-2d1b0051633c', embedding=None, metadata={}, excluded_embed_metadata_keys=[], excluded_llm_metadata_keys=[], relationships={<NodeRelationship.SOURCE: '1'>: RelatedNodeInfo(node_id='9474ce5b-cbd4-4b77-b3d3-9cbdb79b0797', node_type='4', metadata={}, hash='03e190d949f723e719307c7832ed256d038aeb3f200784589c313f95d0df0f06'), <NodeRelationship.PREVIOUS: '2'>: RelatedNodeInfo(node_id='f783691b-9688-492f-a7d5-3308c5fd9f74', node_type='1', metadata={}, hash='a356b86980a5dfd8ae795ada67e82631138b021c8e44c67c76fe41cb8a364ed7'), <NodeRelationship.NEXT: '3'>: RelatedNodeInfo(node_id='a0ac9318-9b97-4993-aebb-788f95ff6060', node_type='1', metadata={}, hash='aeb228495ad9d7a446fa87e8104dce2041eb644511828459bac76a249e1a6157')}, metadata_template='{key}: {value}', metadata_separator='\\n', text='Figura 5: Modelagem dos “instrumentos” disponíveis para ensino-aprendizagem.\\n\\n\\nPor exemplo, entre as habilidades necessárias para a nova geração estão a capacidade de: liderar\\num time; adaptar-se a um mercado complexo; conectar-se a pessoas com experiências e\\nhabilidades diferentes; trabalhar com tecnologia de maneira produtiva e sustentável, e não\\ndestrutiva ou polarizada . Os integrantes desta geração que começa a chegar na universidade, de\\numa forma geral, tendem a ser líderes movidos por valores e engajam-se quando existe uma\\noportunidade real de criar impacto social.\\n\\n\\nO “ambiente” tem como base conceitual os trabalhos de Feuerstein e seus colaboradores e\\nresumidos pelo termo Teoria da Modificabilidade Cognitiva Estrutural (MCE) [FEUERSTEIN et\\nal., 2006]. A MCE entende a inteligência como um processo dinâmico de autorregulação capaz de\\ndar respostas aos estímulos ambientais. Todo organismo humano, se bem mediado, possui a\\ncapacidade de mudar a estrutura do seu funcionamento independentemente da idade ou problema\\nque possa ter enfrentado em qualquer momento da vida. Os times autogerenciados (ou\\n\\n                                                 24\\n\\x0cautogerenciáveis) [WILKINSON, 1998] e os esforços temporários para se obter um produto,\\nserviço ou resultado, ou seja, os Projetos [PMI, 2017], são os outros dois pilares fundamentais do\\n“ambiente”.\\n\\n\\nDisciplina “Residência em Inteligência Ar3ﬁcial”\\nEssa disciplina de 384 horas tem como objetivo explícito a participação do estudante em um ou\\nmais projetos integradores que usufruem de conhecimento e habilidades adquiridos por todo o\\ncurso. Os projetos exigem o contato com problemas reais, o que exige contato tanto com o\\nconhecimento quanto profissionais de outras áreas. Mais detalhes são apresentados na página 69.', mimetype='text/plain', start_char_idx=58902, end_char_idx=60692, metadata_seperator='\\n', text_template='{metadata_str}\\n\\n{content}'), score=1000.0),\n",
              " NodeWithScore(node=TextNode(id_='87d84c98-7cb5-436a-b33d-1b66ca2e9304', embedding=None, metadata={}, excluded_embed_metadata_keys=[], excluded_llm_metadata_keys=[], relationships={<NodeRelationship.SOURCE: '1'>: RelatedNodeInfo(node_id='9474ce5b-cbd4-4b77-b3d3-9cbdb79b0797', node_type='4', metadata={}, hash='03e190d949f723e719307c7832ed256d038aeb3f200784589c313f95d0df0f06'), <NodeRelationship.PREVIOUS: '2'>: RelatedNodeInfo(node_id='0b08f0a0-14ee-4d0e-80fd-c030e88bc311', node_type='1', metadata={}, hash='2d923fc95bccc96decc2c79c1332788118acc05b4b86b53856a72d34b592ee8e'), <NodeRelationship.NEXT: '3'>: RelatedNodeInfo(node_id='894dc9ca-60dc-40d0-9d1e-a116174710be', node_type='1', metadata={}, hash='d6f5616053835f7d3f5d434d161f409a7ddec10457baabc603282f2362d4c347')}, metadata_template='{key}: {value}', metadata_separator='\\n', text='44\\n\\x0c                                                                   8º PERÍODO\\n\\n                                   Disciplina                                   CHT     Natureza     Núcleo\\n\\nResidência em Inteligência Artificial                                           384    Obrigatória   NE\\n\\n                                                  Carga horária do período      384\\n\\n                                                  Carga horária acumulada       2560\\n\\n\\n\\n\\nDisciplinas de formação básica (obrigatórias)\\n\\nIntrodução à Programação\\nNúcleo    TEO   PRA    TOTAL Período     Unidade Obrigatória   Pré-requisito:\\nNC        48 80        128    1o         INF      Sim          Nenhum\\n\\nEmenta\\n     1. Introdução a algoritmos.\\n     2. Conceitos básicos de programas: constantes; tipos de dados primitivos; variáveis;\\n          atribuição; entrada e saída de dados; expressões; estruturas de decisão; estruturas de\\n          repetição.\\n     3. Ponteiro.\\n     4. Estruturas de dados homogêneas e heterogêneas: vetores, matrizes, cadeias de caracteres,\\n          registros. Subprogramas: funções; passagens de parâmetros por valor e por referência,\\n          recursividade.\\n     5. Manipulação de arquivos: abertura, fechamento, leitura e gravação.\\n     6. Tipos de acesso a arquivos: sequencial e indexado.\\n     7. Tipos de arquivos (texto e binário).\\n     8. Transcrição de algoritmos para uma linguagem de programação.\\n     9. Domínio de uma linguagem de programação: sintaxe e semântica; interpretação e\\n          compilação de programas; ambiente de desenvolvimento de programas; estilo de\\n          codificação; documentação de código; técnicas de depuração e técnicas de profiling;\\n          desenvolvimento e uso de bibliotecas.', mimetype='text/plain', start_char_idx=107582, end_char_idx=109320, metadata_seperator='\\n', text_template='{metadata_str}\\n\\n{content}'), score=1000.0),\n",
              " NodeWithScore(node=TextNode(id_='e83f617d-917f-493e-b780-b734925e3f56', embedding=None, metadata={}, excluded_embed_metadata_keys=[], excluded_llm_metadata_keys=[], relationships={<NodeRelationship.SOURCE: '1'>: RelatedNodeInfo(node_id='9474ce5b-cbd4-4b77-b3d3-9cbdb79b0797', node_type='4', metadata={}, hash='03e190d949f723e719307c7832ed256d038aeb3f200784589c313f95d0df0f06'), <NodeRelationship.PREVIOUS: '2'>: RelatedNodeInfo(node_id='e320eece-5851-4d6d-98a1-3dce31e9cdb9', node_type='1', metadata={}, hash='09d360635b1e45e76b77567f076f3cf8febfda77bccb148d1ea977ab6699b5dc'), <NodeRelationship.NEXT: '3'>: RelatedNodeInfo(node_id='3ab297dd-f06f-4fd2-b88c-52254875671b', node_type='1', metadata={}, hash='cb944a45bebb7f6de4e3c3d83b6968e579993816563700140858dddc09f4fa19')}, metadata_template='{key}: {value}', metadata_separator='\\n', text='Ar3culação entre Teoria e Prá3ca Proﬁssional\\nO Perfil do Egresso (p. 19) exige do estudante concluinte o envolvimento com o fazer, a partir do\\nexercício do conhecimento de Inteligência Artificial.\\n\\n\\n\\n\\n                                                 22\\n\\x0cEssa articulação é explicitamente estabelecida por meio da seção “Condições mínimas” definida\\npara cada disciplina de Inteligência Artificial. Estas condições, em geral, definem o que o egresso\\né capaz de realizar com o conhecimento. Dessa forma, o que convencionalmente se limita ao\\nconteúdo, ou teoria, deverá ser exercitado, por meio de práticas, com nível bem definido de\\nproficiência.\\n\\n\\nA disciplina “Residência em Inteligência Artificial” (p. 69) é um ponto explícito do curso no qual\\na prática é o elemento principal, perfazendo 384 horas. O fazer, contudo, não está restrito a essa\\ndisciplina. A capacidade de realização de atividades pertinentes ao desenvolvimento de sistemas\\ninteligentes e autônomos é exigência em boa parte das disciplinas.', mimetype='text/plain', start_char_idx=55245, end_char_idx=56251, metadata_seperator='\\n', text_template='{metadata_str}\\n\\n{content}'), score=1000.0),\n",
              " NodeWithScore(node=TextNode(id_='4a50b886-2bf7-4114-85e0-046e91c51ae3', embedding=None, metadata={}, excluded_embed_metadata_keys=[], excluded_llm_metadata_keys=[], relationships={<NodeRelationship.SOURCE: '1'>: RelatedNodeInfo(node_id='9474ce5b-cbd4-4b77-b3d3-9cbdb79b0797', node_type='4', metadata={}, hash='03e190d949f723e719307c7832ed256d038aeb3f200784589c313f95d0df0f06'), <NodeRelationship.PREVIOUS: '2'>: RelatedNodeInfo(node_id='f391b641-bb2b-4108-b3f2-1a33f08f6837', node_type='1', metadata={}, hash='ca9339ae43668d9027fd50bd3db3b2453cc447c4f3e08fb4370809215a32838a'), <NodeRelationship.NEXT: '3'>: RelatedNodeInfo(node_id='2802abf2-6340-4451-981c-752a103d2f62', node_type='1', metadata={}, hash='05ada9b7ab55696f1c1878bc3b84a6c5724ca6c7898d5407fdeeacb72232535c')}, metadata_template='{key}: {value}', metadata_separator='\\n', text='49\\n\\x0cÁlgebra Linear\\nNúcleo   TEO   PRA   TOTAL Período   Unidade Obrigatória   Pré-requisito:\\nNC       64 0        64    4.o       IME      Sim          Nenhum\\n\\nEmenta\\n     1. Sistemas lineares e matrizes.\\n     2. Espaços vetoriais.\\n     3. Transformações lineares.\\n     4. Autovalores e autovetores.\\n     5. Espaços com produto interno.\\n\\n\\n\\nRedes de computadores\\nNúcleo   TEO   PRA   TOTAL Período   Unidade Obrigatória   Pré-requisito:\\nNE       32 32       64    5o        INF      Não          Nenhum\\n\\nEmenta\\n     1. Conceitos básicos de redes (4hs).\\n     2. Camada de Aplicação (14hs).\\n     3. Camada de Transporte: transferência confiável, controle de congestionamento, TCP, UDP\\n         (12hs).\\n     4. Camada de Rede: IPv4, IPv6, algoritmos de roteamento e roteamento na Internet (8hs).\\n     5. Camada de Enlace e Física (10hs).\\n     6. Redes sem fio, mobilidade e redes móveis celulares (12hs).\\n     7. Estudo de caso e aplicações (4h).\\n\\n\\n\\n\\n                                                     50\\n\\x0cDisciplinas opta3vas\\nAlém das disciplinas de formação básica e das disciplinas específicas de Inteligência Artificial, o\\nestudante precisa cumprir uma disciplina optativa. Para isso, ele deverá cursar e ter êxito em ao\\nmenos uma das disciplinas descritas nesta subceção.', mimetype='text/plain', start_char_idx=116126, end_char_idx=117400, metadata_seperator='\\n', text_template='{metadata_str}\\n\\n{content}'), score=1000.0),\n",
              " NodeWithScore(node=TextNode(id_='113e3afa-1a1e-4e2a-b2cc-8e20713362df', embedding=None, metadata={}, excluded_embed_metadata_keys=[], excluded_llm_metadata_keys=[], relationships={<NodeRelationship.SOURCE: '1'>: RelatedNodeInfo(node_id='9989d9e8-d35e-4b8e-aee2-fa6af69cfec0', node_type='4', metadata={}, hash='0c9b859b03f3d9b98242d365fcac511f8b268fdc91cc73d313cccee2d38ed66c'), <NodeRelationship.PREVIOUS: '2'>: RelatedNodeInfo(node_id='5b5ef3aa-f5fd-4555-8ad0-836d18ecf877', node_type='1', metadata={}, hash='85163fbb8e7b66e13c919309f1bfb86f496338fb77803aac9183dc403a531e34'), <NodeRelationship.NEXT: '3'>: RelatedNodeInfo(node_id='d35c27ef-d38a-4d6f-98d6-bfb36202e231', node_type='1', metadata={}, hash='4a804dd820a007c56320208b4b4ffb43d91b55b714e3b2922320c47a08de5975')}, metadata_template='{key}: {value}', metadata_separator='\\n', text='Acontecia antes, mas agora de uma forma mais massificada. Então, nós temos diversos alunos que moram em cidades aqui no Brasil e trabalham para empresas de fora e também alunos que moram fora e trabalham com empresas daqui e até mesmo conosco no Centro de Inteligência artificial, então isso dá uma boa flexibilidade para sua atuação de carreira. E para você que quer conhecer um pouco mais sobre o bacharelado em Inteligência Artificial. Nada como conhecer a experiência dos alunos, não é verdade? Para ver como que a gente tem realizado isso e colocado em prática tudo isso que eu falei sobre. Além de estudar bastante, né? Utilizar o restante do tempo para complementar a sua formação com experiências, práticas e experiências com empresas, entendendo os problemas que nós temos para resolver.\\n\\nSpeaker3: [00:11:20] Na minha experiência como aluno, o que sempre me atraiu foi a versatilidade do curso, que é você poder atuar em várias áreas ao mesmo tempo, sem limitação nenhuma. Isso não fica apenas na teoria, visto que desde o primeiro período a gente tem um contato muito grande com empresas da área atuando das mais diversas formas. Então, se você vai iniciar um curso, se você está pensando lá na frente, não se preocupa, porque essa atuação com as empresas sempre vai caber você de alguma forma. Porque você vai atuar de acordo com seu nível. Então, se você é iniciante, você vai fazer tarefas, tarefas mais básicas. Se você está mais avançado, você vai fazer tarefas mais avançadas, mas o mais importante é que você vai estar sendo incluso. Então, se você tem a preocupação de lá no futuro, só vou conseguir atuar depois que eu me formar. Ou senão depois que eu me formar. Como que eu vou atuar? Como que as empresas vão me achar? Aqui você não vai ter essa dúvida, porque a partir do momento que você entra, você já vai ter contato com empresas. Você já vai participar de reuniões semanais com empresas.', mimetype='text/plain', start_char_idx=9038, end_char_idx=10953, metadata_seperator='\\n', text_template='{metadata_str}\\n\\n{content}'), score=1000.0),\n",
              " NodeWithScore(node=TextNode(id_='70b08b62-d3cc-43d6-9368-1928acb82aa1', embedding=None, metadata={}, excluded_embed_metadata_keys=[], excluded_llm_metadata_keys=[], relationships={<NodeRelationship.SOURCE: '1'>: RelatedNodeInfo(node_id='9474ce5b-cbd4-4b77-b3d3-9cbdb79b0797', node_type='4', metadata={}, hash='03e190d949f723e719307c7832ed256d038aeb3f200784589c313f95d0df0f06'), <NodeRelationship.PREVIOUS: '2'>: RelatedNodeInfo(node_id='9f011869-9448-4152-b30b-a7b5d055ebb1', node_type='1', metadata={}, hash='48ded1839af2ee1df0e1786ecc34ee9d64aa43effbbe922df4ac48660e36f0a3'), <NodeRelationship.NEXT: '3'>: RelatedNodeInfo(node_id='a41ba775-eb67-45c4-a354-dbaa9a282574', node_type='1', metadata={}, hash='2cc79d2d7d6098a67d20f2200ba6544d3b2e9804c2428f24d34f9afb272e6130')}, metadata_template='{key}: {value}', metadata_separator='\\n', text=\"86\\n\\n                                                                         4\\n\\x0c   Redes Neurais Profundas.87\\n\\n   Visão Computacional.88\\n\\n   Computação de Alto Desempenho.88\\n\\n   Internet das Coisas.89\\n\\n   Processamento de Linguagem Natural.89\\n\\n   Aprendizado de Máquina Não Supervisionado.90\\n\\n   Aprendizado de Máquina por Reforço.91\\n\\n   Processamento Dados Massivos.91\\n\\n   Percepção e Ação Robótica.92\\n\\n   Apoio à Tomada de Decisão.92\\n\\n   Processamento de Áudio e Voz.93\\n\\n   Pesquisa e Inovação.94\\n\\n   Residência em Inteligência Artificial.94\\n\\nA.2 - Disciplinas optativas.95\\n  Computação Móvel e Ubíqua.95\\n\\n   Desenvolvimento de Sistemas para Web.95\\n\\n   Engenharia de Software.96\\n\\n   Interação Humano-Computador.96\\n\\n   Introdução à Língua Brasileira de Sinais.97\\n\\n   Jogos Digitais.98\\n\\n   Pesquisa Operacional.98\\n\\n   Segurança e Auditoria de Sistemas.99\\n\\n   Sistemas de Apoio à Decisão.99\\n\\n   Sistemas Distribuídos.100\\n\\n   Sistemas Inteligentes de Apoio à Decisão.101\\n\\n   Sistemas Multiagentes.102\\n\\n   Sistemas Operacionais.102\\n\\n   Visualização de Informações.103\\n\\n   Web Semântica.103\\n\\n\\n\\n\\n                                                                    5\\n\\x0cLista de acrônimos e siglas\\nAC        A]vidade Complementar\\n\\nACM       Associa'on for Compu'ng Machinery\\n\\nBES       Bacharelado em Engenharia de Sobware\\n\\nBIA       Bacharelado em Inteligência Ar]ﬁcial\\n\\nBSI       Bacharelado em Sistemas de Informação\\n\\nCAPES     Coordenação de Aperfeiçoamento de Pessoal de Nível Superior\\n\\nCC        Ciências da Computação (bacharelado)\\n\\nCEPEC     Conselho de Ensino, Pesquisa,\", mimetype='text/plain', start_char_idx=None, end_char_idx=None, metadata_seperator='\\n', text_template='{metadata_str}\\n\\n{content}'), score=1000.0),\n",
              " NodeWithScore(node=TextNode(id_='df4fc1d8-4f04-40e9-a13c-6e33192ffda8', embedding=None, metadata={'kg_rel_texts': [\"('Programa de residência em inteligência artificial', 'Integralizada com', '384 horas de atividades')\", \"('Disciplina', 'Tem como objetivo', 'Participação do estudante em projetos integradores')\", \"('Residência em inteligência artificial', 'É', 'Ponto explícito do curso')\", \"('Álgebra linear', 'É', 'Disciplina obrigatória')\", \"('Aluno', 'Tem', 'Versatilidade do curso')\", \"['PERMITE', 'Atuar em várias áreas']\", \"['DURA', 'Quatro anos']\"], 'kg_rel_map': {'Curso': [['PERMITE', 'Atuar em várias áreas'], ['DURA', 'Quatro anos']]}, 'kg_schema': {'schema': 'Node properties are the following:\\n\\nRelationship properties are the following:\\n\\nThe relationships are the following:\\n'}}, excluded_embed_metadata_keys=['kg_rel_map', 'kg_rel_texts'], excluded_llm_metadata_keys=['kg_rel_map', 'kg_rel_texts'], relationships={}, metadata_template='{key}: {value}', metadata_separator='\\n', text=\"The following are knowledge sequence in max depth 2 in the form of directed graph like:\\n`subject -[predicate]->, object, <-[predicate_next_hop]-, object_next_hop ...`\\n('Programa de residência em inteligência artificial', 'Integralizada com', '384 horas de atividades')\\n('Disciplina', 'Tem como objetivo', 'Participação do estudante em projetos integradores')\\n('Residência em inteligência artificial', 'É', 'Ponto explícito do curso')\\n('Álgebra linear', 'É', 'Disciplina obrigatória')\\n('Aluno', 'Tem', 'Versatilidade do curso')\\n['PERMITE', 'Atuar em várias áreas']\\n['DURA', 'Quatro anos']\", mimetype='text/plain', start_char_idx=None, end_char_idx=None, metadata_seperator='\\n', text_template='{metadata_str}\\n\\n{content}'), score=1000.0)]"
            ]
          },
          "execution_count": 49,
          "metadata": {},
          "output_type": "execute_result"
        }
      ],
      "source": [
        "retriever_response_2"
      ]
    },
    {
      "cell_type": "markdown",
      "metadata": {
        "id": "nQjH2FkdNkm1"
      },
      "source": [
        "Nós recuperados:"
      ]
    },
    {
      "cell_type": "code",
      "execution_count": null,
      "metadata": {
        "colab": {
          "base_uri": "https://localhost:8080/"
        },
        "id": "FBkF5MsJLu2c",
        "outputId": "55b4cc52-5ae2-42ea-dec6-7b91bf1fd0f2"
      },
      "outputs": [
        {
          "data": {
            "text/plain": [
              "([[\"('Programa de residência em inteligência artificial', 'Integralizada com', '384 horas de atividades')\",\n",
              "   \"('Disciplina', 'Tem como objetivo', 'Participação do estudante em projetos integradores')\",\n",
              "   \"('Residência em inteligência artificial', 'É', 'Ponto explícito do curso')\",\n",
              "   \"('Álgebra linear', 'É', 'Disciplina obrigatória')\",\n",
              "   \"('Aluno', 'Tem', 'Versatilidade do curso')\",\n",
              "   \"['PERMITE', 'Atuar em várias áreas']\",\n",
              "   \"['DURA', 'Quatro anos']\"]],\n",
              " [{'Curso': [['PERMITE', 'Atuar em várias áreas'], ['DURA', 'Quatro anos']]}])"
            ]
          },
          "execution_count": 50,
          "metadata": {},
          "output_type": "execute_result"
        }
      ],
      "source": [
        "kg_rel_texts = [node.node.metadata.get('kg_rel_texts', None) for node in retriever_response_2 if node.node.metadata.get('kg_rel_texts', None) is not None]\n",
        "kg_rel_map = [node.node.metadata.get('kg_rel_map', None) for node in retriever_response_2 if node.node.metadata.get('kg_rel_map', None) is not None]\n",
        "kg_rel_texts, kg_rel_map"
      ]
    }
  ],
  "metadata": {
    "colab": {
      "provenance": []
    },
    "kernelspec": {
      "display_name": "Python 3",
      "name": "python3"
    },
    "language_info": {
      "name": "python"
    }
  },
  "nbformat": 4,
  "nbformat_minor": 0
}
